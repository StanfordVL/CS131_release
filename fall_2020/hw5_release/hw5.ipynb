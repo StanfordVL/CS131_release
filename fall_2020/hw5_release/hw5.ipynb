{
 "cells": [
  {
   "cell_type": "markdown",
   "metadata": {},
   "source": [
    "# Homework 5\n",
    "\n",
    "This assignment covers seam carving for the purpose of content-aware resizing.\n",
    "\n",
    "The material presented here is inspired from:\n",
    "- paper on seam carving: http://graphics.cs.cmu.edu/courses/15-463/2007_fall/hw/proj2/imret.pdf\n",
    "- tutorial: http://cs.brown.edu/courses/cs129/results/proj3/taox\n",
    "- tutorial: http://www.cs.cmu.edu/afs/andrew/scs/cs/15-463/f07/proj2/www/wwedler/\n",
    "\n",
    "Don't hesitate to check these links if you have any doubt on the seam carving process.\n",
    "\n",
    "The whole seam carving process was covered in lecture, please refer to the slides for more details to the different concepts introduced here."
   ]
  },
  {
   "cell_type": "code",
   "execution_count": null,
   "metadata": {},
   "outputs": [],
   "source": [
    "from __future__ import print_function\n",
    "\n",
    "# Setup\n",
    "import numpy as np\n",
    "import matplotlib.pyplot as plt\n",
    "from matplotlib import rc\n",
    "from skimage import color\n",
    "\n",
    "from time import time\n",
    "from IPython.display import HTML\n",
    "\n",
    "%matplotlib inline\n",
    "plt.rcParams['figure.figsize'] = (15.0, 12.0) # set default size of plots\n",
    "plt.rcParams['image.interpolation'] = 'nearest'\n",
    "plt.rcParams['image.cmap'] = 'gray'\n",
    "\n",
    "fig = plt.gcf()\n",
    "fig.set_size_inches(18.5, 10.5)\n",
    "\n",
    "# for auto-reloading extenrnal modules\n",
    "%load_ext autoreload\n",
    "%autoreload 2"
   ]
  },
  {
   "cell_type": "markdown",
   "metadata": {},
   "source": [
    "## Image Reducing using Seam Carving\n",
    "\n",
    "Seam carving is an algorithm for content-aware image resizing.  \n",
    "To understand all the concepts in this homework, make sure to read the slides from lecture again."
   ]
  },
  {
   "cell_type": "code",
   "execution_count": null,
   "metadata": {},
   "outputs": [],
   "source": [
    "from skimage import io, util\n",
    "\n",
    "# Load image\n",
    "img = io.imread('imgs/broadway_tower.jpg')\n",
    "img = util.img_as_float(img)\n",
    "\n",
    "plt.title('Original Image')\n",
    "plt.imshow(img)\n",
    "plt.show()"
   ]
  },
  {
   "cell_type": "markdown",
   "metadata": {},
   "source": [
    "### Energy function (5 points)\n",
    "We will now implemented the `energy_function` to compute the energy of the image.  \n",
    "The energy at each pixel is the sum of:\n",
    "- absolute value of the gradient in the $x$ direction\n",
    "- absolute value of the gradient in the $y$ direction\n",
    "\n",
    "\n",
    "The function should take less than 0.1 seconds to compute."
   ]
  },
  {
   "cell_type": "code",
   "execution_count": null,
   "metadata": {},
   "outputs": [],
   "source": [
    "from seam_carving import energy_function\n",
    "\n",
    "test_img = np.array([[1.0, 2.0, 1.5],\n",
    "                     [3.0, 1.0, 2.0],\n",
    "                     [4.0, 0.5, 3.0]])\n",
    "test_img = np.stack([test_img] * 3, axis=2)\n",
    "assert test_img.shape == (3, 3, 3)\n",
    "\n",
    "# Compute energy function\n",
    "test_energy = energy_function(test_img)\n",
    "\n",
    "solution_energy = np.array([[3.0, 1.25,  1.0],\n",
    "                            [3.5, 1.25, 1.75],\n",
    "                            [4.5,  1.0,  3.5]])\n",
    "\n",
    "print(\"Image (channel 0):\")\n",
    "print(test_img[:, :, 0])\n",
    "\n",
    "print(\"Energy:\")\n",
    "print(test_energy)\n",
    "print(\"Solution energy:\")\n",
    "print(solution_energy)\n",
    "\n",
    "assert np.allclose(test_energy, solution_energy)"
   ]
  },
  {
   "cell_type": "markdown",
   "metadata": {},
   "source": [
    "#### Now, we can visualize your energy function. The expected output is:\n",
    "![imgs/energy_soln.png](imgs/energy_soln.png)"
   ]
  },
  {
   "cell_type": "code",
   "execution_count": null,
   "metadata": {},
   "outputs": [],
   "source": [
    "# Compute energy function\n",
    "start = time()\n",
    "energy = energy_function(img)\n",
    "end = time()\n",
    "\n",
    "print(\"Computing energy function: %f seconds.\" % (end - start))\n",
    "\n",
    "plt.title('Energy')\n",
    "plt.axis('off')\n",
    "plt.imshow(energy)\n",
    "plt.show()"
   ]
  },
  {
   "cell_type": "markdown",
   "metadata": {},
   "source": [
    "### Compute cost (10 points)\n",
    "\n",
    "Now implement the function `compute_cost`.\n",
    "Starting from the energy map, we'll go from the first row of the image to the bottom and compute the minimal cost at each pixel.\n",
    "\n",
    "We'll use dynamic programming to compute the cost line by line starting from the first row.\n",
    "\n",
    "The function should take less than 0.1 seconds to complete."
   ]
  },
  {
   "cell_type": "code",
   "execution_count": null,
   "metadata": {},
   "outputs": [],
   "source": [
    "from seam_carving import compute_cost\n",
    "\n",
    "# Let's first test with a small example\n",
    "\n",
    "test_energy = np.array([[1.0, 2.0, 1.5],\n",
    "                        [3.0, 1.0, 2.0],\n",
    "                        [4.0, 0.5, 3.0]])\n",
    "\n",
    "solution_cost = np.array([[1.0, 2.0, 1.5],\n",
    "                          [4.0, 2.0, 3.5],\n",
    "                          [6.0, 2.5, 5.0]])\n",
    "\n",
    "solution_paths = np.array([[ 0,  0,  0],\n",
    "                           [ 0, -1,  0],\n",
    "                           [ 1,  0, -1]])\n",
    "\n",
    "# Vertical Cost Map\n",
    "vcost, vpaths = compute_cost(_, test_energy, axis=1)  # don't need the first argument for compute_cost\n",
    "\n",
    "print(\"Energy:\")\n",
    "print(test_energy)\n",
    "\n",
    "print(\"Cost:\")\n",
    "print(vcost)\n",
    "print(\"Solution cost:\")\n",
    "print(solution_cost)\n",
    "\n",
    "print(\"Paths:\")\n",
    "print(vpaths)\n",
    "print(\"Solution paths:\")\n",
    "print(solution_paths)"
   ]
  },
  {
   "cell_type": "markdown",
   "metadata": {},
   "source": [
    "#### Now, we can visualize a map of the vertical and horizontal costs. The expected outputs are:\n",
    "\n",
    "Vertical Cost:\n",
    "![imgs/vertical_cost_soln.png](imgs/vertical_cost_soln.png)\n",
    "\n",
    "Horizontal Cost:\n",
    "![imgs/horizontal_cost_soln.png](imgs/horizontal_cost_soln.png)"
   ]
  },
  {
   "cell_type": "code",
   "execution_count": null,
   "metadata": {},
   "outputs": [],
   "source": [
    "# Vertical Cost Map\n",
    "start = time()\n",
    "vcost, _ = compute_cost(_, energy, axis=1)  # don't need the first argument for compute_cost\n",
    "end = time()\n",
    "\n",
    "print(\"Computing vertical cost map: %f seconds.\" % (end - start))\n",
    "\n",
    "plt.title('Vertical Cost Map')\n",
    "plt.axis('off')\n",
    "plt.imshow(vcost, cmap='inferno')\n",
    "plt.show()"
   ]
  },
  {
   "cell_type": "code",
   "execution_count": null,
   "metadata": {},
   "outputs": [],
   "source": [
    "# Horizontal Cost Map\n",
    "start = time()\n",
    "hcost, _ = compute_cost(_, energy, axis=0)\n",
    "end = time()\n",
    "\n",
    "print(\"Computing horizontal cost map: %f seconds.\" % (end - start))\n",
    "\n",
    "plt.title('Horizontal Cost Map')\n",
    "plt.axis('off')\n",
    "plt.imshow(hcost, cmap='inferno')\n",
    "plt.show()"
   ]
  },
  {
   "cell_type": "markdown",
   "metadata": {},
   "source": [
    "## Finding optimal seams\n",
    "\n",
    "Using the cost maps we found above, we can determine the seam with the lowest energy in the image.  \n",
    "We can then remove this optimal seam, and repeat the process until we obtain a desired width."
   ]
  },
  {
   "cell_type": "markdown",
   "metadata": {},
   "source": [
    "### Backtrack seam (5 points)\n",
    "\n",
    "Implement function `backtrack_seam`."
   ]
  },
  {
   "cell_type": "code",
   "execution_count": null,
   "metadata": {},
   "outputs": [],
   "source": [
    "from seam_carving import backtrack_seam\n",
    "\n",
    "# Let's first test with a small example\n",
    "cost = np.array([[1.0, 2.0, 1.5],\n",
    "                 [4.0, 2.0, 3.5],\n",
    "                 [6.0, 2.5, 5.0]])\n",
    "\n",
    "paths = np.array([[ 0,  0,  0],\n",
    "                  [ 0, -1,  0],\n",
    "                  [ 1,  0, -1]])\n",
    "\n",
    "\n",
    "# Vertical Backtracking\n",
    "\n",
    "end = np.argmin(cost[-1])\n",
    "seam_energy = cost[-1, end]\n",
    "seam = backtrack_seam(vpaths, end)\n",
    "\n",
    "print('Seam Energy:', seam_energy)\n",
    "print('Seam:', seam)\n",
    "\n",
    "assert seam_energy == 2.5\n",
    "assert np.allclose(seam, [0, 1, 1])"
   ]
  },
  {
   "cell_type": "markdown",
   "metadata": {},
   "source": [
    "#### Now, we can visualize the optimal vertical seam. The expected output is:\n",
    "\n",
    "![imgs/optimal_vertical_seam_soln.png](imgs/optimal_vertical_seam_soln.png)"
   ]
  },
  {
   "cell_type": "code",
   "execution_count": null,
   "metadata": {},
   "outputs": [],
   "source": [
    "vcost, vpaths = compute_cost(img, energy)\n",
    "\n",
    "# Vertical Backtracking\n",
    "start = time()\n",
    "end = np.argmin(vcost[-1])\n",
    "seam_energy = vcost[-1, end]\n",
    "seam_ = backtrack_seam(vpaths, end)\n",
    "end = time()\n",
    "\n",
    "print(\"Backtracking optimal seam: %f seconds.\" % (end - start))\n",
    "print('Seam Energy:', seam_energy)\n",
    "\n",
    "# Visualize seam\n",
    "vseam = np.copy(img)\n",
    "for row in range(vseam.shape[0]):\n",
    "    vseam[row, seam_[row], :] = np.array([1.0, 0, 0])\n",
    "\n",
    "plt.title('Vertical Seam')\n",
    "plt.axis('off')\n",
    "plt.imshow(vseam)\n",
    "plt.show()"
   ]
  },
  {
   "cell_type": "markdown",
   "metadata": {},
   "source": [
    "In the image above, the optimal vertical seam (minimal cost) goes through the portion of sky without any cloud, which yields the lowest energy.\n",
    "\n",
    "---\n",
    "\n",
    "### Reduce (25 points)\n",
    "\n",
    "We can now use the function `backtrack` and `remove_seam` iteratively to reduce the size of the image through **seam carving**.\n",
    "\n",
    "Each reduce can take around 10 seconds to compute, depending on your implementation.\n",
    "If it's too long, try to vectorize your code in `compute_cost` to only use one loop."
   ]
  },
  {
   "cell_type": "code",
   "execution_count": null,
   "metadata": {},
   "outputs": [],
   "source": [
    "from seam_carving import reduce\n",
    "\n",
    "# Let's first test with a small example\n",
    "test_img = np.arange(9, dtype=np.float64).reshape((3, 3))\n",
    "test_img = np.stack([test_img, test_img, test_img], axis=2)\n",
    "assert test_img.shape == (3, 3, 3)\n",
    "\n",
    "cost = np.array([[1.0, 2.0, 1.5],\n",
    "                 [4.0, 2.0, 3.5],\n",
    "                 [6.0, 2.5, 5.0]])\n",
    "\n",
    "paths = np.array([[ 0,  0,  0],\n",
    "                  [ 0, -1,  0],\n",
    "                  [ 1,  0, -1]])\n",
    "\n",
    "out_remove_seam = np.asarray([[[1., 1., 1.],[2., 2., 2.]],\\\n",
    "                              [[3., 3., 3.],[5., 5., 5.]],\\\n",
    "                              [[6., 6., 6.],[8., 8., 8.]]])\n",
    "\n",
    "# Reduce image width\n",
    "W_new = 2\n",
    "\n",
    "# We force the cost and paths to our values\n",
    "out = reduce(test_img, W_new, cfunc=lambda x, y: (cost, paths), bfunc=lambda x,y: seam, rfunc=lambda x,y: out_remove_seam)\n",
    "\n",
    "print(\"Original image (channel 0):\")\n",
    "print(test_img[:, :, 0])\n",
    "print(\"Reduced image (channel 0): we see that seam [0, 4, 7] is removed\")\n",
    "print(out[:, :, 0])\n",
    "\n",
    "assert np.allclose(out[:, :, 0], np.array([[1, 2], [3, 5], [6, 8]]))"
   ]
  },
  {
   "cell_type": "markdown",
   "metadata": {},
   "source": [
    "#### Now, we can visualize resizing the width from 600 to 400. The expected output is:\n",
    "\n",
    "![imgs/resize_width_400.png](imgs/resize_width_400.png)"
   ]
  },
  {
   "cell_type": "code",
   "execution_count": null,
   "metadata": {},
   "outputs": [],
   "source": [
    "# Reduce image width\n",
    "H, W, _ = img.shape\n",
    "W_new = 400\n",
    "\n",
    "start = time()\n",
    "out = reduce(img, W_new)\n",
    "end = time()\n",
    "\n",
    "print(\"Reducing width from %d to %d: %f seconds.\" % (W, W_new, end - start))\n",
    "\n",
    "plt.subplot(2, 1, 1)\n",
    "plt.title('Original')\n",
    "plt.imshow(img)\n",
    "\n",
    "plt.subplot(2, 1, 2)\n",
    "plt.title('Resized')\n",
    "plt.imshow(out)\n",
    "\n",
    "plt.show()"
   ]
  },
  {
   "cell_type": "markdown",
   "metadata": {},
   "source": [
    "We observe that resizing from width 640 to width 400 conserves almost all the important part of the image (the person and the castle), where a standard resizing would have compressed everything.\n",
    "\n",
    "All the vertical seams removed avoid the person and the castle.\n",
    "\n",
    "#### Now, we can visualize resizing the height from 434 to 300. The expected output is:\n",
    "\n",
    "![imgs/resize_height_300.png](imgs/resize_height_300.png)"
   ]
  },
  {
   "cell_type": "code",
   "execution_count": null,
   "metadata": {
    "scrolled": true
   },
   "outputs": [],
   "source": [
    "# Reduce image height\n",
    "H, W, _ = img.shape\n",
    "H_new = 300\n",
    "\n",
    "start = time()\n",
    "out = reduce(img, H_new, axis=0)\n",
    "end = time()\n",
    "\n",
    "print(\"Reducing height from %d to %d: %f seconds.\" % (H, H_new, end - start))\n",
    "\n",
    "plt.subplot(1, 2, 1)\n",
    "plt.title('Original')\n",
    "plt.imshow(img)\n",
    "\n",
    "plt.subplot(1, 2, 2)\n",
    "plt.title('Resized')\n",
    "plt.imshow(out)\n",
    "\n",
    "plt.show()"
   ]
  },
  {
   "cell_type": "markdown",
   "metadata": {},
   "source": [
    "For reducing the height, we observe that the result does not look as nice.\n",
    "\n",
    "The issue here is that the castle is on all the height of the image, so most horizontal seams will go through it.  \n",
    "Interestingly, we observe that most of the grass is not removed. This is because the grass has small variation between neighboring pixels (in a kind of noisy pattern) that make it high energy.  \n",
    "The seams removed go through the sky on the left, go under the castle to remove some grass and then back up in the low energy blue sky."
   ]
  },
  {
   "cell_type": "markdown",
   "metadata": {},
   "source": [
    "## Image Enlarging\n",
    "\n",
    "### Enlarge naive (10 points)\n",
    "We now want to tackle the reverse problem of enlarging an image.  \n",
    "One naive way to approach the problem would be to duplicate the optimal seam iteratively until we reach the desired size."
   ]
  },
  {
   "cell_type": "code",
   "execution_count": null,
   "metadata": {},
   "outputs": [],
   "source": [
    "from seam_carving import enlarge_naive\n",
    "\n",
    "# Let's first test with a small example\n",
    "test_img = np.arange(9, dtype=np.float64).reshape((3, 3))\n",
    "test_img = np.stack([test_img, test_img, test_img], axis=2)\n",
    "assert test_img.shape == (3, 3, 3)\n",
    "\n",
    "cost = np.array([[1.0, 2.0, 1.5],\n",
    "                 [4.0, 2.0, 3.5],\n",
    "                 [6.0, 2.5, 5.0]])\n",
    "\n",
    "paths = np.array([[ 0,  0,  0],\n",
    "                  [ 0, -1,  0],\n",
    "                  [ 1,  0, -1]])\n",
    "\n",
    "out_duplicate_seam = np.asarray( [[[0., 0., 0.],[0., 0., 0.],[1., 1., 1.],[2., 2., 2.]],\\\n",
    "                                  [[3., 3., 3.],[4., 4., 4.],[4., 4., 4.],[5., 5., 5.]],\\\n",
    "                                  [[6., 6., 6.],[7., 7., 7.],[7., 7., 7.],[8., 8., 8.]]])\n",
    "\n",
    "# Increase image width\n",
    "W_new = 4\n",
    "\n",
    "# We force the cost and paths to our values\n",
    "out = enlarge_naive(test_img, W_new, cfunc=lambda x, y: (cost, paths), bfunc=lambda x,y: seam , dfunc=lambda x,y:out_duplicate_seam)\n",
    "\n",
    "print(\"Original image (channel 0):\")\n",
    "print(test_img[:, :, 0])\n",
    "print(\"Enlarged image (channel 0): we see that seam [0, 4, 7] is duplicated\")\n",
    "print(out[:, :, 0])\n",
    "\n",
    "assert np.allclose(out[:, :, 0], np.array([[0, 0, 1, 2], [3, 4, 4, 5], [6, 7, 7, 8]]))"
   ]
  },
  {
   "cell_type": "markdown",
   "metadata": {},
   "source": [
    "#### Now, we can visualize naively enlarging the width from 640 to 800. The expected output is:\n",
    "\n",
    "![imgs/enlarge_naive_width_800.png](imgs/enlarge_naive_width_800.png)"
   ]
  },
  {
   "cell_type": "code",
   "execution_count": null,
   "metadata": {},
   "outputs": [],
   "source": [
    "W_new = 800\n",
    "\n",
    "# This is a naive implementation of image enlarging\n",
    "# which iteratively computes energy function, finds optimal seam\n",
    "# and duplicates it.\n",
    "# This process will create a stretching artifact by choosing the same seam\n",
    "start = time()\n",
    "enlarged = enlarge_naive(img, W_new)\n",
    "end = time()\n",
    "\n",
    "# Can take around 20 seconds\n",
    "print(\"Enlarging(naive) width from %d to %d: %f seconds.\" \\\n",
    "      % (W, W_new, end - start))\n",
    "\n",
    "plt.imshow(enlarged)\n",
    "plt.show()"
   ]
  },
  {
   "cell_type": "markdown",
   "metadata": {},
   "source": [
    "The issue with `enlarge_naive` is that the same seam will be selected again and again, so this low energy seam will be the only to be duplicated.\n",
    "\n",
    "Another way to get k different seams is to apply the process we used in function `reduce`, and keeping track of the seams we delete progressively.\n",
    "The function `find_seams(image, k)` will find the top k seams for removal iteratively.\n",
    "\n",
    "The inner workings of the function are a bit tricky so we've implemented it for you, but you should go into the code and understand how it works.  \n",
    "This should also help you for the implementation of `enlarge`."
   ]
  },
  {
   "cell_type": "code",
   "execution_count": null,
   "metadata": {},
   "outputs": [],
   "source": [
    "from seam_carving import find_seams\n",
    "\n",
    "# Alternatively, find k seams for removal and duplicate them.\n",
    "start = time()\n",
    "seams = find_seams(img, W_new - W)\n",
    "end = time()\n",
    "\n",
    "# Can take around 10 seconds\n",
    "print(\"Finding %d seams: %f seconds.\" % (W_new - W, end - start))\n",
    "\n",
    "plt.imshow(seams, cmap='viridis')\n",
    "plt.show()"
   ]
  },
  {
   "cell_type": "markdown",
   "metadata": {},
   "source": [
    "### Enlarge (25 points)\n",
    "\n",
    "We can see that all the seams found are different, and they avoid the castle and the person.\n",
    "\n",
    "One issue we can mention is that we cannot enlarge more than we can reduce. Because of our process, the maximum enlargement is the width of the image `W` because we first need to find `W` different seams in the image.\n",
    "\n",
    "One effect we can see on this image is that the blue sky at the right of the castle can only be enlarged x2. The concentration of seams in this area is very strong.  \n",
    "We can also note that the seams at the right of the castle have a blue color, which means they have low value and were removed in priority in the seam selection process."
   ]
  },
  {
   "cell_type": "code",
   "execution_count": null,
   "metadata": {},
   "outputs": [],
   "source": [
    "from seam_carving import enlarge\n",
    "\n",
    "# Let's first test with a small example\n",
    "test_img = np.array([[0.0, 1.0, 3.0],\n",
    "                     [0.0, 1.0, 3.0],\n",
    "                     [0.0, 1.0, 3.0]])\n",
    "#test_img = np.arange(9, dtype=np.float64).reshape((3, 3))\n",
    "test_img = np.stack([test_img, test_img, test_img], axis=2)\n",
    "assert test_img.shape == (3, 3, 3)\n",
    "\n",
    "# Increase image width\n",
    "W_new = 5\n",
    "\n",
    "out_naive = enlarge_naive(test_img, W_new)\n",
    "out = enlarge(test_img, W_new)\n",
    "\n",
    "print(\"Original image (channel 0):\")\n",
    "print(test_img[:, :, 0])\n",
    "print(\"Enlarged naive image (channel 0): first seam is duplicated twice.\")\n",
    "print(out_naive[:, :, 0])\n",
    "print(\"Enlarged image (channel 0): first and second seam are each duplicated once.\")\n",
    "print(out[:, :, 0])\n",
    "\n",
    "assert np.allclose(out[:, :, 0], np.array([[0, 0, 1, 1, 3], [0, 0, 1, 1, 3], [0, 0, 1, 1, 3]]))"
   ]
  },
  {
   "cell_type": "markdown",
   "metadata": {},
   "source": [
    "#### Now, we can visualize enlarging the width from 640 to 800. The expected output is:\n",
    "\n",
    "![imgs/enlarge_width_800.png](imgs/enlarge_width_800.png)"
   ]
  },
  {
   "cell_type": "code",
   "execution_count": null,
   "metadata": {},
   "outputs": [],
   "source": [
    "W_new = 800\n",
    "\n",
    "start = time()\n",
    "out = enlarge(img, W_new)\n",
    "end = time()\n",
    "\n",
    "# Can take around 20 seconds\n",
    "print(\"Enlarging width from %d to %d: %f seconds.\" \\\n",
    "      % (W, W_new, end - start))\n",
    "\n",
    "plt.subplot(2, 1, 1)\n",
    "plt.title('Original')\n",
    "plt.imshow(img)\n",
    "\n",
    "plt.subplot(2, 1, 2)\n",
    "plt.title('Resized')\n",
    "plt.imshow(out)\n",
    "\n",
    "plt.show()"
   ]
  },
  {
   "cell_type": "code",
   "execution_count": null,
   "metadata": {
    "scrolled": false
   },
   "outputs": [],
   "source": [
    "# Map of the seams for horizontal seams.\n",
    "start = time()\n",
    "seams = find_seams(img, W_new - W, axis=0)\n",
    "end = time()\n",
    "\n",
    "# Can take around 15 seconds\n",
    "print(\"Finding %d seams: %f seconds.\" % (W_new - W, end - start))\n",
    "\n",
    "plt.imshow(seams, cmap='viridis')\n",
    "plt.show()"
   ]
  },
  {
   "cell_type": "markdown",
   "metadata": {},
   "source": [
    "#### Now, we can visualize enlarging the height from 434 to 600. The expected output is:\n",
    "\n",
    "![imgs/enlarge_height_600.png](imgs/enlarge_height_600.png)"
   ]
  },
  {
   "cell_type": "code",
   "execution_count": null,
   "metadata": {},
   "outputs": [],
   "source": [
    "H_new = 600\n",
    "\n",
    "start = time()\n",
    "out = enlarge(img, H_new, axis=0)\n",
    "end = time()\n",
    "\n",
    "# Can take around 20 seconds\n",
    "print(\"Enlarging height from %d to %d: %f seconds.\" \\\n",
    "      % (H, H_new, end - start))\n",
    "\n",
    "plt.subplot(1, 2, 1)\n",
    "plt.title('Original')\n",
    "plt.imshow(img)\n",
    "\n",
    "plt.subplot(1, 2, 2)\n",
    "plt.title('Resized')\n",
    "plt.imshow(out)\n",
    "\n",
    "plt.show()"
   ]
  },
  {
   "cell_type": "markdown",
   "metadata": {},
   "source": [
    "As you can see in the example above, the sky above the castle has doubled in size, the grass below has doubled in size but we still can't reach a height of 600 by just doubling the sky and grass.  \n",
    "So, the algorithm then needs to enlarge the castle itself, while trying to avoid enlarging the windows for instance."
   ]
  },
  {
   "cell_type": "markdown",
   "metadata": {
    "collapsed": true
   },
   "source": [
    "## Other experiments on the image\n",
    "\n",
    "Feel free to experiment more on this image, try different sizes to enlarge or reduce, or check what seams are chosen...\n",
    "\n",
    "Reducing by a 2x factor often leads to weird patterns.  \n",
    "Enlarging by more than 2x is impossible since we only duplicate seams. One solution is to enlarge in mutliple steps (enlarge x1.4, enlarge again x1.4...)"
   ]
  },
  {
   "cell_type": "code",
   "execution_count": null,
   "metadata": {},
   "outputs": [],
   "source": [
    "# Reduce image width\n",
    "H, W, _ = img.shape\n",
    "W_new = 200\n",
    "\n",
    "start = time()\n",
    "out = reduce(img, W_new)\n",
    "end = time()\n",
    "\n",
    "print(\"Reducing width from %d to %d: %f seconds.\" % (W, W_new, end - start))\n",
    "\n",
    "plt.subplot(2, 1, 1)\n",
    "plt.title('Original')\n",
    "plt.imshow(img)\n",
    "\n",
    "plt.subplot(2, 1, 2)\n",
    "plt.title('Resized')\n",
    "plt.imshow(out)\n",
    "\n",
    "plt.show()"
   ]
  },
  {
   "cell_type": "markdown",
   "metadata": {},
   "source": [
    "## Extra Credit: Faster `reduce`\n",
    "\n",
    "Implement a faster version of `reduce` called `reduce_fast` in the file `seam_carving.py`.\n",
    "\n",
    "We will have a leaderboard on gradescope with the performance of students.  \n",
    "\n",
    "The autograder tests will check that the outputs match, and run the `reduce_fast` function on a set of images with varying shapes (say between 200 and 800).\n",
    "\n",
    "This extra credit can be worth up to 1% of your final grade."
   ]
  },
  {
   "cell_type": "code",
   "execution_count": null,
   "metadata": {},
   "outputs": [],
   "source": [
    "from seam_carving import reduce_fast\n",
    "\n",
    "# Reduce image width\n",
    "H, W, _ = img.shape\n",
    "W_new = 400\n",
    "\n",
    "start = time()\n",
    "out = reduce(img, W_new)\n",
    "end = time()\n",
    "\n",
    "print(\"Normal reduce width from %d to %d: %f seconds.\" % (W, W_new, end - start))\n",
    "\n",
    "start = time()\n",
    "out_fast = reduce_fast(img, W_new)\n",
    "end = time()\n",
    "\n",
    "print(\"Faster reduce width from %d to %d: %f seconds.\" % (W, W_new, end - start))\n",
    "\n",
    "assert np.allclose(out, out_fast), \"Outputs don't match.\"\n",
    "\n",
    "\n",
    "plt.subplot(3, 1, 1)\n",
    "plt.title('Original')\n",
    "plt.imshow(img)\n",
    "\n",
    "plt.subplot(3, 1, 2)\n",
    "plt.title('Resized')\n",
    "plt.imshow(out)\n",
    "\n",
    "plt.subplot(3, 1, 3)\n",
    "plt.title('Faster resized')\n",
    "plt.imshow(out)\n",
    "\n",
    "plt.show()"
   ]
  },
  {
   "cell_type": "markdown",
   "metadata": {},
   "source": [
    "## Reducing and enlarging on another image\n",
    "\n",
    "Also check these outputs with another image."
   ]
  },
  {
   "cell_type": "code",
   "execution_count": null,
   "metadata": {
    "scrolled": false
   },
   "outputs": [],
   "source": [
    "# Load image\n",
    "img2 = io.imread('imgs/wave.jpg')\n",
    "img2 = util.img_as_float(img2)\n",
    "\n",
    "plt.title('Original Image')\n",
    "plt.imshow(img2)\n",
    "plt.show()"
   ]
  },
  {
   "cell_type": "code",
   "execution_count": null,
   "metadata": {},
   "outputs": [],
   "source": [
    "out = reduce(img2, 300)\n",
    "plt.imshow(out)\n",
    "plt.show()"
   ]
  },
  {
   "cell_type": "code",
   "execution_count": null,
   "metadata": {},
   "outputs": [],
   "source": [
    "out = enlarge(img2, 800)\n",
    "plt.imshow(out)\n",
    "plt.show()"
   ]
  },
  {
   "cell_type": "markdown",
   "metadata": {
    "collapsed": true
   },
   "source": [
    "## Forward Energy (20 points)\n",
    "\n",
    "Forward energy is a solution to some artifacts that appear when images have curves for instance.\n",
    "\n",
    "Implement the function `compute_forward_cost`. This function will replace the `compute_cost` we have been using until now."
   ]
  },
  {
   "cell_type": "code",
   "execution_count": null,
   "metadata": {},
   "outputs": [],
   "source": [
    "# Load image\n",
    "img_yolo = io.imread('imgs/yolo.jpg')\n",
    "img_yolo = util.img_as_float(img_yolo)\n",
    "\n",
    "plt.title('Original Image')\n",
    "plt.imshow(img_yolo)\n",
    "plt.show()"
   ]
  },
  {
   "cell_type": "code",
   "execution_count": null,
   "metadata": {},
   "outputs": [],
   "source": [
    "from seam_carving import compute_forward_cost\n",
    "\n",
    "# Let's first test with a small example\n",
    "img_test = np.array([[1.0, 1.0, 2.0],\n",
    "                     [0.5, 0.0, 0.0],\n",
    "                     [1.0, 0.5, 2.0]])\n",
    "img_test = np.stack([img_test]*3, axis=2)\n",
    "assert img_test.shape == (3, 3, 3)\n",
    "\n",
    "energy = energy_function(img_test)\n",
    "\n",
    "solution_cost = np.array([[0.5, 2.5, 3.0],\n",
    "                          [1.0, 2.0, 3.0],\n",
    "                          [2.0, 4.0, 6.0]])\n",
    "\n",
    "solution_paths = np.array([[ 0,  0,  0],\n",
    "                           [ 0, -1,  0],\n",
    "                           [ 0, -1, -1]])\n",
    "\n",
    "# Vertical Cost Map\n",
    "vcost, vpaths = compute_forward_cost(img_test, energy)  # don't need the first argument for compute_cost\n",
    "\n",
    "print(\"Image:\")\n",
    "print(color.rgb2grey(img_test))\n",
    "\n",
    "print(\"Energy:\")\n",
    "print(energy)\n",
    "\n",
    "print(\"Cost:\")\n",
    "print(vcost)\n",
    "print(\"Solution cost:\")\n",
    "print(solution_cost)\n",
    "\n",
    "print(\"Paths:\")\n",
    "print(vpaths)\n",
    "print(\"Solution paths:\")\n",
    "print(solution_paths)\n",
    "\n",
    "assert np.allclose(solution_cost, vcost)\n",
    "assert np.allclose(solution_paths, vpaths)"
   ]
  },
  {
   "cell_type": "markdown",
   "metadata": {},
   "source": [
    "#### Now, we can visualize the differences between the normal and forward cost functions. The expected output is:\n",
    "\n",
    "![imgs/normal_vs_forward_cost.png](imgs/normal_vs_forward_cost.png)"
   ]
  },
  {
   "cell_type": "code",
   "execution_count": null,
   "metadata": {},
   "outputs": [],
   "source": [
    "from seam_carving import compute_forward_cost\n",
    "\n",
    "energy = energy_function(img_yolo)\n",
    "\n",
    "out, _ = compute_cost(img_yolo, energy)\n",
    "plt.subplot(1, 2, 1)\n",
    "plt.imshow(out, cmap='inferno')\n",
    "plt.title(\"Normal cost function\")\n",
    "\n",
    "out, _ = compute_forward_cost(img_yolo, energy)\n",
    "plt.subplot(1, 2, 2)\n",
    "plt.imshow(out, cmap='inferno')\n",
    "plt.title(\"Forward cost function\")\n",
    "\n",
    "plt.show()"
   ]
  },
  {
   "cell_type": "markdown",
   "metadata": {},
   "source": [
    "We observe that the forward energy insists more on the curved edges of the image."
   ]
  },
  {
   "cell_type": "code",
   "execution_count": null,
   "metadata": {},
   "outputs": [],
   "source": [
    "from seam_carving import reduce\n",
    "out = reduce(img_yolo, 200, axis=0)\n",
    "plt.imshow(out)\n",
    "plt.show()"
   ]
  },
  {
   "cell_type": "markdown",
   "metadata": {},
   "source": [
    "The issue with our standard `reduce` function is that it removes vertical seams without any concern for the energy introduced in the image.\n",
    "\n",
    "In the case of the dinosaure above, the continuity of the shape is broken. The head is totally wrong for instance, and the back of the dinosaure lacks continuity.\n",
    "\n",
    "**Forward energy** will solve this issue by explicitely putting high energy on a seam that breaks this continuity and introduces energy."
   ]
  },
  {
   "cell_type": "code",
   "execution_count": null,
   "metadata": {},
   "outputs": [],
   "source": [
    "# This step can take a very long time depending on your implementation.\n",
    "out = reduce(img_yolo, 200, axis=0, cfunc=compute_forward_cost)\n",
    "plt.imshow(out)\n",
    "plt.show()"
   ]
  },
  {
   "cell_type": "markdown",
   "metadata": {},
   "source": [
    "## Extra Credit: Object Removal\n",
    "\n",
    "Object removal uses a binary mask of the object to be removed.\n",
    "\n",
    "Using the `reduce` and `enlarge` functions you wrote before, complete the function `remove_object` to output an image of the same shape but without the object to remove."
   ]
  },
  {
   "cell_type": "code",
   "execution_count": null,
   "metadata": {},
   "outputs": [],
   "source": [
    "# Load image\n",
    "image = io.imread('imgs/wyeth.jpg')\n",
    "image = util.img_as_float(image)\n",
    "\n",
    "mask = io.imread('imgs/wyeth_mask.jpg', as_gray=True)\n",
    "mask = util.img_as_bool(mask)\n",
    "\n",
    "plt.subplot(1, 2, 1)\n",
    "plt.title('Original Image')\n",
    "plt.imshow(image)\n",
    "\n",
    "plt.subplot(1, 2, 2)\n",
    "plt.title('Mask of the object to remove')\n",
    "plt.imshow(mask)\n",
    "\n",
    "plt.show()"
   ]
  },
  {
   "cell_type": "code",
   "execution_count": null,
   "metadata": {},
   "outputs": [],
   "source": [
    "from seam_carving import remove_object\n",
    "\n",
    "# Use your function to remove the object\n",
    "out = remove_object(image, mask)\n",
    "\n",
    "plt.subplot(2, 2, 1)\n",
    "plt.title('Original Image')\n",
    "plt.imshow(image)\n",
    "\n",
    "plt.subplot(2, 2, 2)\n",
    "plt.title('Mask of the object to remove')\n",
    "plt.imshow(mask)\n",
    "\n",
    "plt.subplot(2, 2, 3)\n",
    "plt.title('Image with object removed')\n",
    "plt.imshow(out)\n",
    "\n",
    "plt.show()"
   ]
  }
 ],
 "metadata": {
  "kernelspec": {
   "display_name": "Python 3",
   "language": "python",
   "name": "python3"
  },
  "language_info": {
   "codemirror_mode": {
    "name": "ipython",
    "version": 3
   },
   "file_extension": ".py",
   "mimetype": "text/x-python",
   "name": "python",
   "nbconvert_exporter": "python",
   "pygments_lexer": "ipython3",
   "version": "3.8.5"
  }
 },
 "nbformat": 4,
 "nbformat_minor": 2
}