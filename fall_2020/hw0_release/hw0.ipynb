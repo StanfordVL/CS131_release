{
 "cells": [
  {
   "cell_type": "markdown",
   "metadata": {},
   "source": [
    "# Homework 0\n",
    "In this homework, we will go through basic linear algebra, NumPy, and image manipulation using Python to get everyone on the same page for the prerequisite skills for this class.\n",
    "\n",
    "One of the aims of this homework assignment is to get you to start getting comfortable searching for useful library functions online. So in many of the functions you will implement, you will have to look up helper functions."
   ]
  },
  {
   "cell_type": "code",
   "execution_count": null,
   "metadata": {},
   "outputs": [],
   "source": [
    "# Imports the print function from newer versions of python\n",
    "from __future__ import print_function\n",
    "\n",
    "# Setup\n",
    "\n",
    "# The Random module implements pseudo-random number generators\n",
    "import random \n",
    "\n",
    "# Numpy is the main package for scientific computing with Python. \n",
    "# This will be one of our most used libraries in this class\n",
    "import numpy as np\n",
    "\n",
    "# The Time library helps us time code runtimes\n",
    "import time\n",
    "\n",
    "\n",
    "# Imports all the methods in each of the files: linalg.py and imageManip.py\n",
    "from linalg import *\n",
    "from imageManip import *\n",
    "\n",
    "\n",
    "# Matplotlib is a useful plotting library for python \n",
    "import matplotlib.pyplot as plt\n",
    "# This code is to make matplotlib figures appear inline in the\n",
    "# notebook rather than in a new window.\n",
    "%matplotlib inline\n",
    "plt.rcParams['figure.figsize'] = (10.0, 8.0) # set default size of plots\n",
    "plt.rcParams['image.interpolation'] = 'nearest'\n",
    "plt.rcParams['image.cmap'] = 'gray'\n",
    "\n",
    "\n",
    "# Some more magic so that the notebook will reload external python modules;\n",
    "# see http://stackoverflow.com/questions/1907993/autoreload-of-modules-in-ipython\n",
    "%load_ext autoreload\n",
    "%autoreload 2\n",
    "%reload_ext autoreload"
   ]
  },
  {
   "cell_type": "markdown",
   "metadata": {
    "collapsed": true
   },
   "source": [
    "# Question 1: Linear Algebra and NumPy Review\n",
    "In this section, we will review linear algebra and learn how to use vectors and matrices in python using numpy. By the end of this section, you will have implemented all the required methods in `linalg.py`."
   ]
  },
  {
   "cell_type": "markdown",
   "metadata": {},
   "source": [
    "## Question 1.1 (5 points)\n",
    "First, let's test whether you can define the following matrices and vectors using numpy. Look up `np.array()` for help. In the next code block, define $M$ as a $(4, 3)$ matrix, $a$ as a $(1, 3)$ row vector and $b$ as a $(3, 1)$ column vector:\n",
    "\n",
    "$$M = \\begin{bmatrix}\n",
    "1 & 2 & 3 \\\\\n",
    "4 & 5 & 6 \\\\\n",
    "7 & 8 & 9 \\\\\n",
    "10 & 11 & 12 \\end{bmatrix}\n",
    "$$\n",
    "\n",
    "$$a = \\begin{bmatrix}\n",
    "1 & 1 & 0\n",
    "\\end{bmatrix}\n",
    "$$\n",
    "\n",
    "$$b = \\begin{bmatrix}\n",
    "-1 \\\\ 2 \\\\ 5\n",
    "\\end{bmatrix}  \n",
    "$$ "
   ]
  },
  {
   "cell_type": "code",
   "execution_count": null,
   "metadata": {},
   "outputs": [],
   "source": [
    "### YOUR CODE HERE\n",
    "pass\n",
    "### END CODE HERE\n",
    "print(\"M = \\n\", M)\n",
    "print(\"The size of M is: \", M.shape)\n",
    "print()\n",
    "print(\"a = \", a)\n",
    "print(\"The size of a is: \", a.shape)\n",
    "print()\n",
    "print(\"b = \", b)\n",
    "print(\"The size of b is: \", b.shape)"
   ]
  },
  {
   "cell_type": "markdown",
   "metadata": {},
   "source": [
    "## Question 1.2 (5 points)\n",
    "Implement the `dot_product()` method in `linalg.py` and check that it returns the correct answer for $a^Tb$."
   ]
  },
  {
   "cell_type": "code",
   "execution_count": null,
   "metadata": {},
   "outputs": [],
   "source": [
    "# Now, let's test out this dot product. Your answer should be [[1]].\n",
    "aDotB = dot_product(a, b)\n",
    "print(aDotB)\n",
    "\n",
    "print(\"The size is: \", aDotB.shape)"
   ]
  },
  {
   "cell_type": "markdown",
   "metadata": {},
   "source": [
    "## Question 1.3 (5 points)\n",
    "Implement the `complicated_matrix_function()` method in `linalg.py` and use it to compute $(ab)Ma^T$\n",
    "\n",
    "IMPORTANT NOTE: The `complicated_matrix_function()` method expects all inputs to be two dimensional numpy arrays, as opposed to 1-D arrays.  This is an important distinction, because 2-D arrays can be transposed, while 1-D arrays cannot.\n",
    "\n",
    "To transpose a 2-D array, you can use the syntax `array.T` "
   ]
  },
  {
   "cell_type": "code",
   "execution_count": null,
   "metadata": {},
   "outputs": [],
   "source": [
    "# Your answer should be $[[3], [9], [15], [21]]$ of shape(4, 1).\n",
    "ans = complicated_matrix_function(M, a, b)\n",
    "print(ans)\n",
    "print()\n",
    "print(\"The size is: \", ans.shape)"
   ]
  },
  {
   "cell_type": "code",
   "execution_count": null,
   "metadata": {},
   "outputs": [],
   "source": [
    "M_2 = np.array(range(4)).reshape((2,2))\n",
    "a_2 = np.array([[1,1]])\n",
    "b_2 = np.array([[10, 10]]).T\n",
    "print(M_2.shape)\n",
    "print(a_2.shape)\n",
    "print(b_2.shape)\n",
    "print()\n",
    "\n",
    "# Your answer should be $[[20], [100]]$ of shape(2, 1).\n",
    "ans = complicated_matrix_function(M_2, a_2, b_2)\n",
    "print(ans)\n",
    "print()\n",
    "print(\"The size is: \", ans.shape)"
   ]
  },
  {
   "cell_type": "markdown",
   "metadata": {},
   "source": [
    "## Question 1.4 (10 points)\n",
    "Implement `eigen_decomp()` and `get_eigen_values_and_vectors()` methods. In this method, perform eigenvalue decomposition on the following matrix and return the largest k eigen values and corresponding eigen vectors (k is specified in the method calls below).\n",
    "\n",
    "$$M = \\begin{bmatrix}\n",
    "1 & 2 & 3 \\\\\n",
    "4 & 5 & 6 \\\\\n",
    "7 & 8 & 9 \\end{bmatrix}\n",
    "$$\n"
   ]
  },
  {
   "cell_type": "code",
   "execution_count": null,
   "metadata": {},
   "outputs": [],
   "source": [
    "# Let's define M.\n",
    "M = np.array([[1,2,3],[4,5,6],[7,8,9]])\n",
    "\n",
    "# Now let's grab the first eigenvalue and first eigenvector.\n",
    "# You should get back a single eigenvalue and a single eigenvector.\n",
    "val, vec = get_eigen_values_and_vectors(M[:,:3], 1)\n",
    "print(\"First eigenvalue =\", val[0])\n",
    "print()\n",
    "print(\"First eigenvector =\", vec[0])\n",
    "print()\n",
    "assert len(vec) == 1\n",
    "\n",
    "# Now, let's get the first two eigenvalues and eigenvectors.\n",
    "# You should get back a list of two eigenvalues and a list of two eigenvector arrays.\n",
    "val, vec = get_eigen_values_and_vectors(M[:,:3], 2)\n",
    "print(\"Eigenvalues =\", val)\n",
    "print()\n",
    "print(\"Eigenvectors =\", vec)\n",
    "assert len(vec) == 2"
   ]
  },
  {
   "cell_type": "markdown",
   "metadata": {},
   "source": [
    "## Question 1.5 (10 points)\n",
    "\n",
    "To wrap up our overview of NumPy, let's implement something fun &mdash; a helper function for computing the Euclidean distance between two $n$-dimensional points!\n",
    "\n",
    "In the 2-dimensional case, computing the Euclidean distance reduces to solving the Pythagorean theorem $c = \\sqrt{a^2 + b^2}$:\n",
    "\n",
    "![pythagorean.png](pythagorean.png)\n",
    "\n",
    "...where, given two points $(x_1, y_1)$ and $(x_2, y_2)$, $a = x_1 - x_2$ and $b = y_1 - y_2$.\n",
    "\n",
    "\n",
    "More generally, given two $n$-dimensional vectors, the Euclidean distance can be computed by:\n",
    "\n",
    "1. Performing an elementwise subtraction between the two vectors, to get $n$ difference values.\n",
    "2. Squaring each of the $n$ difference values, and summing the squares.\n",
    "4. Taking the square root of our sum.\n",
    "\n",
    "Alternatively, the Euclidean distance between length-$n$ vectors $u$ and $v$ can be written as:\n",
    "\n",
    "$\n",
    "\\quad\\textbf{distance}(u, v) = \\sqrt{\\sum_{i=1}^n (u_i - v_i)^2}\n",
    "$\n",
    "\n",
    "\n",
    "Try implementing this function: first using native Python with a `for` loop in the `euclidean_distance_native()` function, then in NumPy **without any loops** in the `euclidean_distance_numpy()` function.\n",
    "We've added some `assert`  statements here to help you check functionality (if it prints nothing, then your implementation is correct)!"
   ]
  },
  {
   "cell_type": "code",
   "execution_count": null,
   "metadata": {},
   "outputs": [],
   "source": [
    "## Testing native Python function\n",
    "assert euclidean_distance_native([7.0], [6.0]) == 1.0\n",
    "assert euclidean_distance_native([7.0, 0.0], [3.0, 3.0]) == 5.0\n",
    "assert euclidean_distance_native([7.0, 0.0, 0.0], [3.0, 0.0, 3.0]) == 5.0"
   ]
  },
  {
   "cell_type": "code",
   "execution_count": null,
   "metadata": {},
   "outputs": [],
   "source": [
    "## Testing NumPy function\n",
    "assert euclidean_distance_numpy(\n",
    "    np.array([7.0]),\n",
    "    np.array([6.0])\n",
    ") == 1.0\n",
    "assert euclidean_distance_numpy(\n",
    "    np.array([7.0, 0.0]),\n",
    "    np.array([3.0, 3.0])\n",
    ") == 5.0\n",
    "assert euclidean_distance_numpy(\n",
    "    np.array([7.0, 0.0, 0.0]),\n",
    "    np.array([3.0, 0.0, 3.0])\n",
    ") == 5.0"
   ]
  },
  {
   "cell_type": "markdown",
   "metadata": {},
   "source": [
    "Next, let's take a look at how these two implementations compare in terms of runtime:"
   ]
  },
  {
   "cell_type": "code",
   "execution_count": null,
   "metadata": {},
   "outputs": [],
   "source": [
    "n = 1000\n",
    "\n",
    "# Create some length-n lists and/or n-dimensional arrays\n",
    "a = [0.0] * n\n",
    "b = [10.0] * n\n",
    "a_array = np.array(a)\n",
    "b_array = np.array(b)\n",
    "\n",
    "# Compute runtime for native implementation\n",
    "start_time = time.time()\n",
    "for i in range(10000):\n",
    "    euclidean_distance_native(a, b)\n",
    "print(\"Native:\", (time.time() - start_time), \"seconds\")\n",
    "\n",
    "# Compute runtime for numpy implementation\n",
    "# Start by grabbing the current time in seconds\n",
    "start_time = time.time()\n",
    "for i in range(10000):\n",
    "    euclidean_distance_numpy(a_array, b_array)\n",
    "print(\"NumPy:\", (time.time() - start_time), \"seconds\")"
   ]
  },
  {
   "cell_type": "markdown",
   "metadata": {},
   "source": [
    "As you can see, doing vectorized calculations (i.e. no for loops) with NumPy results in significantly faster computations! "
   ]
  },
  {
   "cell_type": "markdown",
   "metadata": {},
   "source": [
    "# Part 2: Image Manipulation \n",
    "\n",
    "Now that you are familiar with using matrices and vectors. Let's load some images and treat them as matrices and do some operations on them. By the end of this section, you will have implemented all the methods in `imageManip.py`"
   ]
  },
  {
   "cell_type": "code",
   "execution_count": null,
   "metadata": {},
   "outputs": [],
   "source": [
    "# Run this code to set the locations of the images we will be using. \n",
    "# You can change these paths to point to your own images if you want to try them out for fun.\n",
    "\n",
    "image1_path = './image1.jpg'\n",
    "image2_path = './image2.jpg'\n",
    "\n",
    "def display(img):\n",
    "    # Show image\n",
    "    plt.figure(figsize = (5,5))\n",
    "    plt.imshow(img)\n",
    "    plt.axis('off')\n",
    "    plt.show()"
   ]
  },
  {
   "cell_type": "markdown",
   "metadata": {},
   "source": [
    "## Question 2.1 (5 points)\n",
    "Implement the load method in imageManip.py and read the display method below. We will use these two methods through the rest of the notebook to visualize our work."
   ]
  },
  {
   "cell_type": "code",
   "execution_count": null,
   "metadata": {},
   "outputs": [],
   "source": [
    "image1 = load(image1_path)\n",
    "\n",
    "display(image1)"
   ]
  },
  {
   "cell_type": "markdown",
   "metadata": {},
   "source": [
    "## Question 2.2 (5 points)\n",
    "One of the most common operations we perform when working with images is rectangular **cropping**, or the action of removing unwanted outer areas of an image.\n",
    "\n",
    "Take a look at this code we've written to crop out everything but the eyes of our baboon from above:"
   ]
  },
  {
   "cell_type": "code",
   "execution_count": null,
   "metadata": {},
   "outputs": [],
   "source": [
    "display(image1[10:60, 70:230, :])"
   ]
  },
  {
   "cell_type": "markdown",
   "metadata": {},
   "source": [
    "Implement the `crop_image()` method by taking in the starting row index, starting column index, number of rows, and number of columns, and outputting the cropped image. \n",
    "\n",
    "Then, in the cell below, see if you can pull out a 100x100 square from each corner of the original `image1`: the top left, top right, bottom left, and bottom right."
   ]
  },
  {
   "cell_type": "code",
   "execution_count": null,
   "metadata": {},
   "outputs": [],
   "source": [
    "top_left_corner = None ## Replace \"None\" with a crop_image() function call.\n",
    "top_right_corner = None ## Replace \"None\" with a crop_image() function call.\n",
    "bottom_left_corner = None ## Replace \"None\" with a crop_image() function call.\n",
    "bottom_right_corner = None ## Replace \"None\" with a crop_image() function call.\n",
    "\n",
    "display(top_left_corner)\n",
    "display(top_right_corner)\n",
    "display(bottom_left_corner)\n",
    "display(bottom_right_corner)"
   ]
  },
  {
   "cell_type": "markdown",
   "metadata": {},
   "source": [
    "## Question 2.3 (10 points)\n",
    "Implement the `dim_image()` method by converting images according to  $x_n = 0.5*x_p^2$ for every pixel, where $x_n$ is the new value and $x_p$ is the original value.\n",
    "\n",
    "Note: Since all the pixel values of the image are in the range $[0, 1]$, the above formula will result in reducing these pixels values and therefore make the image dimmer."
   ]
  },
  {
   "cell_type": "code",
   "execution_count": null,
   "metadata": {},
   "outputs": [],
   "source": [
    "new_image = dim_image(image1)\n",
    "display(new_image)"
   ]
  },
  {
   "cell_type": "markdown",
   "metadata": {},
   "source": [
    "## Question 2.4 (10 points)\n",
    "Let's try another commonly used operation: image resizing!\n",
    "\n",
    "At a high level, image resizing should go something like this:\n",
    "\n",
    "1. We create an (initially empty) output array of the desired size, `output_image`\n",
    "2. We iterate over each pixel position `(i,j)` in the output image\n",
    "    - For each output pixel, we compute a corresponding input pixel `(input_i, input_j)`\n",
    "    - We assign `output_image[i, j, :]` to `input_image[input_i, input_j, :]`\n",
    "3. We return the resized output image\n",
    "\n",
    "We want `input_i` and `input_j` to increase proportionally with `i` and `j` respectively:\n",
    "\n",
    "- `input_i` can be computed as `int(i * row_scale_factor)`\n",
    "- `input_j` can be computed as `int(j * col_scale_factor)`\n",
    "\n",
    "...where `int()` is a Python operation takes a float and rounds it down to the nearest integer, and `row_scale_factor` and `col_scale_factor` are constants computed from the image input/output sizes.\n",
    "\n",
    "Try to figure out what `row_scale_factor` and `col_scale_factor` should be, then implement this algorithm in the `resize_image()` method! Then, run the cells below to test out your image resizing algorithm!\n",
    "\n",
    "When you downsize the baboon to 16x16, you should expect an output that looks something like this:\n",
    "\n",
    "![16_16_baboon.png](16_16_baboon.png)\n",
    "\n",
    "When you stretch it horizontally to 50x400, you should get:\n",
    "\n",
    "![50_400_baboon.png](50_400_baboon.png)"
   ]
  },
  {
   "cell_type": "code",
   "execution_count": null,
   "metadata": {},
   "outputs": [],
   "source": [
    "display(resize_image(image1, 16, 16))"
   ]
  },
  {
   "cell_type": "code",
   "execution_count": null,
   "metadata": {},
   "outputs": [],
   "source": [
    "display(resize_image(image1, 50, 400))"
   ]
  },
  {
   "cell_type": "markdown",
   "metadata": {},
   "source": [
    "**Question:** In the resize algorithm we describe above, the output is populated by iterating over the indices of the output image. Could we implement image resizing by iterating over the indices of the input image instead? How do the two approaches compare?\n",
    "\n",
    "> *Your response here!*"
   ]
  },
  {
   "cell_type": "markdown",
   "metadata": {},
   "source": [
    "## Question 2.5 (15 points)\n",
    "\n",
    "One more operation that you can try implementing is **image rotation**. This is part of a real interview question that we've encountered for actual computer vision jobs (notably at Facebook), and we expect it to require quite a bit more thinking."
   ]
  },
  {
   "cell_type": "markdown",
   "metadata": {},
   "source": [
    "#### a) Rotating 2D coordinates (5 points)\n",
    "\n",
    "Before we start thinking about rotating full images, let's start by taking a look at rotating `(x, y)` coordinates:\n",
    "\n",
    "![coordinate_rotation.png](coordinate_rotation.png)\n",
    "\n",
    "Using `np.cos()` and `np.sin()`, implement the `rotate2d()` method to compute the coordinates $(x', y')$ rotated by theta radians from $(x, y)$ using the lecture slides. \n",
    "\n",
    "Once you've implemented the function, test your implementation below using the assert statements (if it prints nothing, then your implementation is correct):"
   ]
  },
  {
   "cell_type": "code",
   "execution_count": null,
   "metadata": {},
   "outputs": [],
   "source": [
    "assert rotate2d(np.array([1.0, 0.0]), 0.0).shape == (\n",
    "    2,\n",
    "), \"Output shape incorrect!\"\n",
    "assert np.allclose(\n",
    "    rotate2d(np.array([1.0, 0.0]), 0.0), np.array([1.0, 0.0])\n",
    "), \"\"\n",
    "assert np.allclose(\n",
    "    rotate2d(np.array([1.0, 0.0]), np.pi / 2.0), np.array([0.0, 1.0])\n",
    "), \"\""
   ]
  },
  {
   "cell_type": "markdown",
   "metadata": {},
   "source": [
    "Run the cell below to visualize a point as it's rotated around the origin by a set of evenly-spaced angles! You should see 30 points arranged in a circle."
   ]
  },
  {
   "cell_type": "code",
   "execution_count": null,
   "metadata": {},
   "outputs": [],
   "source": [
    "# Visualize a point being rotated around the origin\n",
    "# We'll use the matplotlib library for this!\n",
    "import matplotlib.pyplot as plt\n",
    "\n",
    "points = np.zeros((30, 2))\n",
    "for i in range(30):\n",
    "    points[i, :] = rotate2d(np.array([1.0, 0.0]), i / 30.0 * (2 * np.pi))\n",
    "\n",
    "plt.scatter(points[:, 0], points[:, 1])\n",
    "plt.show()"
   ]
  },
  {
   "cell_type": "markdown",
   "metadata": {},
   "source": [
    "**Question:** Our function currently only rotates input points around the origin (0,0). Using the same `rotate2d` function, how could we rotate the point around a center that wasn't at the origin? **You'll need to do this when you implement image rotation below!**\n",
    "\n",
    "> *Your response here!*"
   ]
  },
  {
   "cell_type": "markdown",
   "metadata": {},
   "source": [
    "#### b) Rotate Image (10 points)\n",
    "\n",
    "Finally, use what you've learned about 2D rotations to create and implement the `rotate_image(input_image, theta)` function!\n",
    "\n",
    "For an input angle of $\\pi/4$ (45 degrees), the expected output is:\n",
    "\n",
    "![rotated_output.png](rotated_output.png)\n",
    "\n",
    "**Hints:**\n",
    "- We recommend basing your code off your `resize_image()` implementation, and applying the same general approach as before. Iterate over each pixel of an output image `(i, j)`, then fill in a color from a corresponding input pixel `(input_i, input_j)`. In this case, note that the output and input images should be the same size.\n",
    "- If you run into an output pixel whose corresponding input coordinates `input_i` and `input_j` that are invalid, you can just ignore that pixel or set it to black.\n",
    "- In our expected output above, we're rotating each coordinate around the center of the image, not the origin. (the origin is located at the top left)"
   ]
  },
  {
   "cell_type": "code",
   "execution_count": null,
   "metadata": {},
   "outputs": [],
   "source": [
    "## Test that your output matches the expected output\n",
    "display(rotate_image(image1, np.pi / 4.0))"
   ]
  },
  {
   "cell_type": "code",
   "execution_count": null,
   "metadata": {},
   "outputs": [],
   "source": []
  }
 ],
 "metadata": {
  "kernelspec": {
   "display_name": "Python 3",
   "language": "python",
   "name": "python3"
  },
  "language_info": {
   "codemirror_mode": {
    "name": "ipython",
    "version": 3
   },
   "file_extension": ".py",
   "mimetype": "text/x-python",
   "name": "python",
   "nbconvert_exporter": "python",
   "pygments_lexer": "ipython3",
   "version": "3.6.8"
  }
 },
 "nbformat": 4,
 "nbformat_minor": 2
}
