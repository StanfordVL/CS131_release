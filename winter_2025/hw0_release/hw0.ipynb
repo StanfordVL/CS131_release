{
  "cells": [
    {
      "cell_type": "markdown",
      "metadata": {
        "id": "YbbOGOmmvF_L"
      },
      "source": [
        "# Homework 0\n",
        "In this homework, we will go through basic linear algebra, NumPy, and image manipulation using Python to get everyone on the same page for the prerequisite skills for this class.\n",
        "\n",
        "One of the aims of this homework assignment is to get you to start getting comfortable searching for useful library functions online. So in many of the functions you will implement, you will have to look up helper functions."
      ]
    },
    {
      "cell_type": "markdown",
      "metadata": {
        "id": "kFlvkQbd9rpw"
      },
      "source": [
        "# Setup"
      ]
    },
    {
      "cell_type": "markdown",
      "metadata": {
        "id": "dWteGLJ-HtzG"
      },
      "source": [
        "###**Step 1**\n",
        "First, run the cells below to clone the `CS131_release` [repo](https://github.com/StanfordVL/CS131_release) and `cd` into the correct directory in order to access some necessary files.\n",
        "\n",
        "\n"
      ]
    },
    {
      "cell_type": "code",
      "execution_count": null,
      "metadata": {
        "id": "_qzk4-8_kB5W"
      },
      "outputs": [],
      "source": [
        "import os\n",
        "\n",
        "if not os.path.exists(\"CS131_release\"):\n",
        "    # Clone the repository if it doesn't already exist\n",
        "    !git clone https://github.com/StanfordVL/CS131_release.git"
<<<<<<< HEAD
      ],
      "metadata": {
        "id": "_qzk4-8_kB5W"
      },
      "execution_count": 1,
      "outputs": []
=======
      ]
>>>>>>> upstream/master
    },
    {
      "cell_type": "code",
      "execution_count": null,
      "metadata": {
        "id": "VkEPqnSSkFax",
        "outputId": "b35d44b3-8058-498f-a024-5a8f0f02b27d",
        "colab": {
          "base_uri": "https://localhost:8080/"
        }
      },
<<<<<<< HEAD
      "execution_count": 2,
      "outputs": [
        {
          "output_type": "stream",
          "name": "stdout",
          "text": [
            "/content/CS131_release/winter_2025/hw0_release\n"
          ]
        }
=======
      "outputs": [],
      "source": [
        "%cd CS131_release/winter_2025/hw0_release/"
>>>>>>> upstream/master
      ]
    },
    {
      "cell_type": "markdown",
      "metadata": {
        "id": "p-M-lvN5L6Or"
      },
      "source": [
        "###**Step 2**\n",
        "Next, run the cells below to install the necessary libraries and packages."
      ]
    },
    {
      "cell_type": "code",
      "execution_count": null,
      "metadata": {
        "id": "dmeEGY326c9j"
      },
      "outputs": [],
      "source": [
        "# Install the necessary dependencies\n",
        "# (restart your runtime session if prompted to, and then re-run this cell)\n",
        "\n",
        "!pip install -r requirements.txt"
<<<<<<< HEAD
      ],
      "metadata": {
        "id": "dmeEGY326c9j",
        "outputId": "4a8fb464-9873-4ec3-fdee-ea962c287dca",
        "colab": {
          "base_uri": "https://localhost:8080/"
        }
      },
      "execution_count": 3,
      "outputs": [
        {
          "output_type": "stream",
          "name": "stdout",
          "text": [
            "Requirement already satisfied: Jinja2==2.11.2 in /usr/local/lib/python3.10/dist-packages (from -r requirements.txt (line 1)) (2.11.2)\n",
            "Requirement already satisfied: MarkupSafe==2.0.1 in /usr/local/lib/python3.10/dist-packages (from -r requirements.txt (line 2)) (2.0.1)\n",
            "Requirement already satisfied: Pillow in /usr/local/lib/python3.10/dist-packages (from -r requirements.txt (line 3)) (11.1.0)\n",
            "Requirement already satisfied: PyWavelets in /usr/local/lib/python3.10/dist-packages (from -r requirements.txt (line 4)) (1.8.0)\n",
            "Requirement already satisfied: Pygments==2.7.0 in /usr/local/lib/python3.10/dist-packages (from -r requirements.txt (line 5)) (2.7.0)\n",
            "Requirement already satisfied: appnope==0.1.0 in /usr/local/lib/python3.10/dist-packages (from -r requirements.txt (line 6)) (0.1.0)\n",
            "Requirement already satisfied: astroid in /usr/local/lib/python3.10/dist-packages (from -r requirements.txt (line 7)) (2.5)\n",
            "Requirement already satisfied: bleach==3.2.0 in /usr/local/lib/python3.10/dist-packages (from -r requirements.txt (line 8)) (3.2.0)\n",
            "Requirement already satisfied: cycler==0.10.0 in /usr/local/lib/python3.10/dist-packages (from -r requirements.txt (line 9)) (0.10.0)\n",
            "Requirement already satisfied: decorator==4.4.2 in /usr/local/lib/python3.10/dist-packages (from -r requirements.txt (line 10)) (4.4.2)\n",
            "Requirement already satisfied: entrypoints==0.3 in /usr/local/lib/python3.10/dist-packages (from -r requirements.txt (line 11)) (0.3)\n",
            "Requirement already satisfied: html5lib==1.1 in /usr/local/lib/python3.10/dist-packages (from -r requirements.txt (line 12)) (1.1)\n",
            "Requirement already satisfied: isort in /usr/local/lib/python3.10/dist-packages (from -r requirements.txt (line 13)) (5.13.2)\n",
            "Requirement already satisfied: jedi==0.17.2 in /usr/local/lib/python3.10/dist-packages (from -r requirements.txt (line 14)) (0.17.2)\n",
            "Requirement already satisfied: jsonschema==3.2.0 in /usr/local/lib/python3.10/dist-packages (from -r requirements.txt (line 15)) (3.2.0)\n",
            "Requirement already satisfied: jupyter in /usr/local/lib/python3.10/dist-packages (from -r requirements.txt (line 16)) (1.1.1)\n",
            "Requirement already satisfied: lazy-object-proxy in /usr/local/lib/python3.10/dist-packages (from -r requirements.txt (line 17)) (1.10.0)\n",
            "Requirement already satisfied: matplotlib==3.3.2 in /usr/local/lib/python3.10/dist-packages (from -r requirements.txt (line 18)) (3.3.2)\n",
            "Requirement already satisfied: mccabe==0.6.1 in /usr/local/lib/python3.10/dist-packages (from -r requirements.txt (line 19)) (0.6.1)\n",
            "Requirement already satisfied: mistune==0.8.4 in /usr/local/lib/python3.10/dist-packages (from -r requirements.txt (line 20)) (0.8.4)\n",
            "Requirement already satisfied: nbconvert in /usr/local/lib/python3.10/dist-packages (from -r requirements.txt (line 21)) (6.4.5)\n",
            "Requirement already satisfied: nbformat==5.0.7 in /usr/local/lib/python3.10/dist-packages (from -r requirements.txt (line 22)) (5.0.7)\n",
            "Requirement already satisfied: networkx==2.5 in /usr/local/lib/python3.10/dist-packages (from -r requirements.txt (line 23)) (2.5)\n",
            "Requirement already satisfied: notebook in /usr/local/lib/python3.10/dist-packages (from -r requirements.txt (line 24)) (6.5.5)\n",
            "Requirement already satisfied: numpy in /usr/local/lib/python3.10/dist-packages (from -r requirements.txt (line 25)) (1.26.4)\n",
            "Requirement already satisfied: olefile==0.46 in /usr/local/lib/python3.10/dist-packages (from -r requirements.txt (line 26)) (0.46)\n",
            "Requirement already satisfied: pandocfilters==1.4.2 in /usr/local/lib/python3.10/dist-packages (from -r requirements.txt (line 27)) (1.4.2)\n",
            "Requirement already satisfied: pexpect==4.8.0 in /usr/local/lib/python3.10/dist-packages (from -r requirements.txt (line 28)) (4.8.0)\n",
            "Requirement already satisfied: pickleshare==0.7.5 in /usr/local/lib/python3.10/dist-packages (from -r requirements.txt (line 29)) (0.7.5)\n",
            "Requirement already satisfied: prompt-toolkit in /usr/local/lib/python3.10/dist-packages (from -r requirements.txt (line 30)) (3.0.48)\n",
            "Requirement already satisfied: ptyprocess==0.6.0 in /usr/local/lib/python3.10/dist-packages (from -r requirements.txt (line 31)) (0.6.0)\n",
            "Requirement already satisfied: pylint==2.6.0 in /usr/local/lib/python3.10/dist-packages (from -r requirements.txt (line 32)) (2.6.0)\n",
            "Requirement already satisfied: pyparsing==2.4.7 in /usr/local/lib/python3.10/dist-packages (from -r requirements.txt (line 33)) (2.4.7)\n",
            "Requirement already satisfied: python-dateutil==2.8.1 in /usr/local/lib/python3.10/dist-packages (from -r requirements.txt (line 34)) (2.8.1)\n",
            "Requirement already satisfied: pytz==2020.1 in /usr/local/lib/python3.10/dist-packages (from -r requirements.txt (line 35)) (2020.1)\n",
            "Requirement already satisfied: pyzmq in /usr/local/lib/python3.10/dist-packages (from -r requirements.txt (line 36)) (24.0.1)\n",
            "Requirement already satisfied: qtconsole==4.7.7 in /usr/local/lib/python3.10/dist-packages (from -r requirements.txt (line 37)) (4.7.7)\n",
            "Requirement already satisfied: scikit-image in /usr/local/lib/python3.10/dist-packages (from -r requirements.txt (line 38)) (0.19.3)\n",
            "Requirement already satisfied: scipy in /usr/local/lib/python3.10/dist-packages (from -r requirements.txt (line 39)) (1.13.1)\n",
            "Requirement already satisfied: simplegeneric==0.8.1 in /usr/local/lib/python3.10/dist-packages (from -r requirements.txt (line 40)) (0.8.1)\n",
            "Requirement already satisfied: six==1.15.0 in /usr/local/lib/python3.10/dist-packages (from -r requirements.txt (line 41)) (1.15.0)\n",
            "Requirement already satisfied: terminado in /usr/local/lib/python3.10/dist-packages (from -r requirements.txt (line 42)) (0.18.1)\n",
            "Requirement already satisfied: testpath==0.4.4 in /usr/local/lib/python3.10/dist-packages (from -r requirements.txt (line 43)) (0.4.4)\n",
            "Requirement already satisfied: timeout-decorator==0.4.1 in /usr/local/lib/python3.10/dist-packages (from -r requirements.txt (line 44)) (0.4.1)\n",
            "Requirement already satisfied: tornado in /usr/local/lib/python3.10/dist-packages (from -r requirements.txt (line 45)) (6.3.3)\n",
            "Requirement already satisfied: wcwidth==0.2.5 in /usr/local/lib/python3.10/dist-packages (from -r requirements.txt (line 46)) (0.2.5)\n",
            "Requirement already satisfied: webencodings==0.5.1 in /usr/local/lib/python3.10/dist-packages (from -r requirements.txt (line 47)) (0.5.1)\n",
            "Requirement already satisfied: widgetsnbextension==3.5.1 in /usr/local/lib/python3.10/dist-packages (from -r requirements.txt (line 48)) (3.5.1)\n",
            "Requirement already satisfied: wrapt==1.12.1 in /usr/local/lib/python3.10/dist-packages (from -r requirements.txt (line 49)) (1.12.1)\n",
            "Requirement already satisfied: packaging in /usr/local/lib/python3.10/dist-packages (from bleach==3.2.0->-r requirements.txt (line 8)) (24.2)\n",
            "Requirement already satisfied: parso<0.8.0,>=0.7.0 in /usr/local/lib/python3.10/dist-packages (from jedi==0.17.2->-r requirements.txt (line 14)) (0.7.1)\n",
            "Requirement already satisfied: attrs>=17.4.0 in /usr/local/lib/python3.10/dist-packages (from jsonschema==3.2.0->-r requirements.txt (line 15)) (24.3.0)\n",
            "Requirement already satisfied: pyrsistent>=0.14.0 in /usr/local/lib/python3.10/dist-packages (from jsonschema==3.2.0->-r requirements.txt (line 15)) (0.20.0)\n",
            "Requirement already satisfied: setuptools in /usr/local/lib/python3.10/dist-packages (from jsonschema==3.2.0->-r requirements.txt (line 15)) (75.1.0)\n",
            "Requirement already satisfied: certifi>=2020.06.20 in /usr/local/lib/python3.10/dist-packages (from matplotlib==3.3.2->-r requirements.txt (line 18)) (2024.12.14)\n",
            "Requirement already satisfied: kiwisolver>=1.0.1 in /usr/local/lib/python3.10/dist-packages (from matplotlib==3.3.2->-r requirements.txt (line 18)) (1.4.8)\n",
            "Requirement already satisfied: ipython-genutils in /usr/local/lib/python3.10/dist-packages (from nbformat==5.0.7->-r requirements.txt (line 22)) (0.2.0)\n",
            "Requirement already satisfied: jupyter-core in /usr/local/lib/python3.10/dist-packages (from nbformat==5.0.7->-r requirements.txt (line 22)) (5.7.2)\n",
            "Requirement already satisfied: traitlets>=4.1 in /usr/local/lib/python3.10/dist-packages (from nbformat==5.0.7->-r requirements.txt (line 22)) (5.7.1)\n",
            "Requirement already satisfied: toml>=0.7.1 in /usr/local/lib/python3.10/dist-packages (from pylint==2.6.0->-r requirements.txt (line 32)) (0.10.2)\n",
            "Requirement already satisfied: jupyter-client>=4.1 in /usr/local/lib/python3.10/dist-packages (from qtconsole==4.7.7->-r requirements.txt (line 37)) (6.1.12)\n",
            "Requirement already satisfied: ipykernel>=4.1 in /usr/local/lib/python3.10/dist-packages (from qtconsole==4.7.7->-r requirements.txt (line 37)) (5.5.6)\n",
            "Requirement already satisfied: qtpy in /usr/local/lib/python3.10/dist-packages (from qtconsole==4.7.7->-r requirements.txt (line 37)) (2.4.2)\n",
            "Requirement already satisfied: jupyter-console in /usr/local/lib/python3.10/dist-packages (from jupyter->-r requirements.txt (line 16)) (6.1.0)\n",
            "Requirement already satisfied: ipywidgets in /usr/local/lib/python3.10/dist-packages (from jupyter->-r requirements.txt (line 16)) (7.6.6)\n",
            "Requirement already satisfied: jupyterlab in /usr/local/lib/python3.10/dist-packages (from jupyter->-r requirements.txt (line 16)) (3.3.4)\n",
            "Requirement already satisfied: jupyterlab-pygments in /usr/local/lib/python3.10/dist-packages (from nbconvert->-r requirements.txt (line 21)) (0.3.0)\n",
            "Requirement already satisfied: defusedxml in /usr/local/lib/python3.10/dist-packages (from nbconvert->-r requirements.txt (line 21)) (0.7.1)\n",
            "Requirement already satisfied: beautifulsoup4 in /usr/local/lib/python3.10/dist-packages (from nbconvert->-r requirements.txt (line 21)) (4.12.3)\n",
            "Requirement already satisfied: nbclient<0.6.0,>=0.5.0 in /usr/local/lib/python3.10/dist-packages (from nbconvert->-r requirements.txt (line 21)) (0.5.13)\n",
            "Requirement already satisfied: argon2-cffi in /usr/local/lib/python3.10/dist-packages (from notebook->-r requirements.txt (line 24)) (23.1.0)\n",
            "Requirement already satisfied: nest-asyncio>=1.5 in /usr/local/lib/python3.10/dist-packages (from notebook->-r requirements.txt (line 24)) (1.6.0)\n",
            "Requirement already satisfied: Send2Trash>=1.8.0 in /usr/local/lib/python3.10/dist-packages (from notebook->-r requirements.txt (line 24)) (1.8.3)\n",
            "Requirement already satisfied: prometheus-client in /usr/local/lib/python3.10/dist-packages (from notebook->-r requirements.txt (line 24)) (0.21.1)\n",
            "Requirement already satisfied: nbclassic>=0.4.7 in /usr/local/lib/python3.10/dist-packages (from notebook->-r requirements.txt (line 24)) (0.5.6)\n",
            "Requirement already satisfied: imageio>=2.4.1 in /usr/local/lib/python3.10/dist-packages (from scikit-image->-r requirements.txt (line 38)) (2.36.1)\n",
            "Requirement already satisfied: tifffile>=2019.7.26 in /usr/local/lib/python3.10/dist-packages (from scikit-image->-r requirements.txt (line 38)) (2024.12.12)\n",
            "Requirement already satisfied: ipython>=5.0.0 in /usr/local/lib/python3.10/dist-packages (from ipykernel>=4.1->qtconsole==4.7.7->-r requirements.txt (line 37)) (7.34.0)\n",
            "Requirement already satisfied: platformdirs>=2.5 in /usr/local/lib/python3.10/dist-packages (from jupyter-core->nbformat==5.0.7->-r requirements.txt (line 22)) (4.3.6)\n",
            "Requirement already satisfied: jupyter-server>=1.8 in /usr/local/lib/python3.10/dist-packages (from nbclassic>=0.4.7->notebook->-r requirements.txt (line 24)) (1.13.5)\n",
            "Requirement already satisfied: notebook-shim>=0.2.3 in /usr/local/lib/python3.10/dist-packages (from nbclassic>=0.4.7->notebook->-r requirements.txt (line 24)) (0.2.4)\n",
            "Requirement already satisfied: argon2-cffi-bindings in /usr/local/lib/python3.10/dist-packages (from argon2-cffi->notebook->-r requirements.txt (line 24)) (21.2.0)\n",
            "Requirement already satisfied: soupsieve>1.2 in /usr/local/lib/python3.10/dist-packages (from beautifulsoup4->nbconvert->-r requirements.txt (line 21)) (2.6)\n",
            "Requirement already satisfied: jupyterlab-widgets<3,>=1.0.0 in /usr/local/lib/python3.10/dist-packages (from ipywidgets->jupyter->-r requirements.txt (line 16)) (1.1.11)\n",
            "Requirement already satisfied: jupyterlab-server~=2.10 in /usr/local/lib/python3.10/dist-packages (from jupyterlab->jupyter->-r requirements.txt (line 16)) (2.10.3)\n",
            "Requirement already satisfied: backcall in /usr/local/lib/python3.10/dist-packages (from ipython>=5.0.0->ipykernel>=4.1->qtconsole==4.7.7->-r requirements.txt (line 37)) (0.2.0)\n",
            "Requirement already satisfied: matplotlib-inline in /usr/local/lib/python3.10/dist-packages (from ipython>=5.0.0->ipykernel>=4.1->qtconsole==4.7.7->-r requirements.txt (line 37)) (0.1.7)\n",
            "Requirement already satisfied: anyio<4,>=3.1.0 in /usr/local/lib/python3.10/dist-packages (from jupyter-server>=1.8->nbclassic>=0.4.7->notebook->-r requirements.txt (line 24)) (3.7.1)\n",
            "Requirement already satisfied: websocket-client in /usr/local/lib/python3.10/dist-packages (from jupyter-server>=1.8->nbclassic>=0.4.7->notebook->-r requirements.txt (line 24)) (1.8.0)\n",
            "Requirement already satisfied: babel in /usr/local/lib/python3.10/dist-packages (from jupyterlab-server~=2.10->jupyterlab->jupyter->-r requirements.txt (line 16)) (2.16.0)\n",
            "Requirement already satisfied: json5 in /usr/local/lib/python3.10/dist-packages (from jupyterlab-server~=2.10->jupyterlab->jupyter->-r requirements.txt (line 16)) (0.10.0)\n",
            "Requirement already satisfied: requests in /usr/local/lib/python3.10/dist-packages (from jupyterlab-server~=2.10->jupyterlab->jupyter->-r requirements.txt (line 16)) (2.32.3)\n",
            "Requirement already satisfied: cffi>=1.0.1 in /usr/local/lib/python3.10/dist-packages (from argon2-cffi-bindings->argon2-cffi->notebook->-r requirements.txt (line 24)) (1.17.1)\n",
            "Requirement already satisfied: idna>=2.8 in /usr/local/lib/python3.10/dist-packages (from anyio<4,>=3.1.0->jupyter-server>=1.8->nbclassic>=0.4.7->notebook->-r requirements.txt (line 24)) (3.10)\n",
            "Requirement already satisfied: sniffio>=1.1 in /usr/local/lib/python3.10/dist-packages (from anyio<4,>=3.1.0->jupyter-server>=1.8->nbclassic>=0.4.7->notebook->-r requirements.txt (line 24)) (1.3.1)\n",
            "Requirement already satisfied: exceptiongroup in /usr/local/lib/python3.10/dist-packages (from anyio<4,>=3.1.0->jupyter-server>=1.8->nbclassic>=0.4.7->notebook->-r requirements.txt (line 24)) (1.2.2)\n",
            "Requirement already satisfied: pycparser in /usr/local/lib/python3.10/dist-packages (from cffi>=1.0.1->argon2-cffi-bindings->argon2-cffi->notebook->-r requirements.txt (line 24)) (2.22)\n",
            "Requirement already satisfied: charset-normalizer<4,>=2 in /usr/local/lib/python3.10/dist-packages (from requests->jupyterlab-server~=2.10->jupyterlab->jupyter->-r requirements.txt (line 16)) (3.4.1)\n",
            "Requirement already satisfied: urllib3<3,>=1.21.1 in /usr/local/lib/python3.10/dist-packages (from requests->jupyterlab-server~=2.10->jupyterlab->jupyter->-r requirements.txt (line 16)) (2.3.0)\n"
          ]
        }
=======
>>>>>>> upstream/master
      ]
    },
    {
      "cell_type": "code",
      "execution_count": 4,
      "metadata": {
        "id": "ezYsCrzNvF_M"
      },
      "outputs": [],
      "source": [
        "# Imports the print function from newer versions of python\n",
        "from __future__ import print_function\n",
        "\n",
        "\n",
        "# The Random module implements pseudo-random number generators\n",
        "import random\n",
        "\n",
        "# Numpy is the main package for scientific computing with Python.\n",
        "# This will be one of our most used libraries in this class\n",
        "import numpy as np\n",
        "\n",
        "# The Time library helps us time code runtimes\n",
        "import time\n",
        "\n",
        "# PIL (Pillow) is a useful library for opening, manipulating, and saving images\n",
        "from PIL import Image\n",
        "\n",
        "# skimage (Scikit-Image) is a library for image processing\n",
        "from skimage import color, io\n",
        "\n",
        "# Matplotlib is a useful plotting library for python\n",
        "import matplotlib.pyplot as plt\n",
        "# This code is to make matplotlib figures appear inline in the\n",
        "# notebook rather than in a new window.\n",
        "%matplotlib inline\n",
        "plt.rcParams['figure.figsize'] = (10.0, 8.0) # set default size of plots\n",
        "plt.rcParams['image.interpolation'] = 'nearest'\n",
        "plt.rcParams['image.cmap'] = 'gray'"
      ]
    },
    {
      "cell_type": "markdown",
      "metadata": {
        "collapsed": true,
        "id": "6RlGm4wAvF_M"
      },
      "source": [
        "# Question 1: Linear Algebra and NumPy Review\n",
        "In this section, we will review linear algebra and learn how to use vectors and matrices in python using numpy."
      ]
    },
    {
      "cell_type": "markdown",
      "metadata": {
        "id": "ntoNK39DvF_M"
      },
      "source": [
        "## Question 1.1 (5 points)\n",
        "First, let's test whether you can define the following matrices and vectors using numpy. Look up `np.array()` for help. In the next code block, define $M$ as a $(4, 3)$ matrix, $a$ as a $(1, 3)$ row vector and $b$ as a $(3, 1)$ column vector:\n",
        "\n",
        "$$M = \\begin{bmatrix}\n",
        "1 & 2 & 3 \\\\\n",
        "4 & 5 & 6 \\\\\n",
        "7 & 8 & 9 \\\\\n",
        "10 & 11 & 12 \\end{bmatrix}\n",
        "$$\n",
        "\n",
        "$$a = \\begin{bmatrix}\n",
        "1 & 1 & 0\n",
        "\\end{bmatrix}\n",
        "$$\n",
        "\n",
        "$$b = \\begin{bmatrix}\n",
        "-1 \\\\ 2 \\\\ 5\n",
        "\\end{bmatrix}  \n",
        "$$"
      ]
    },
    {
      "cell_type": "code",
      "execution_count": 5,
      "metadata": {
        "id": "rmvtCYOivF_M",
        "outputId": "e52056ce-0f06-4103-8bf1-f8a9aba9e83f",
        "colab": {
          "base_uri": "https://localhost:8080/"
        }
      },
      "outputs": [
        {
          "output_type": "stream",
          "name": "stdout",
          "text": [
            "M = \n",
            " [[ 1  2  3]\n",
            " [ 4  5  6]\n",
            " [ 7  8  9]\n",
            " [10 11 12]]\n",
            "The size of M is:  (4, 3)\n",
            "\n",
            "a =  [[1 1 0]]\n",
            "The size of a is:  (1, 3)\n",
            "\n",
            "b =  [[-1]\n",
            " [ 2]\n",
            " [ 5]]\n",
            "The size of b is:  (3, 1)\n"
          ]
        }
      ],
      "source": [
        "### YOUR CODE HERE\n",
        "M = np.array([[1, 2, 3],\n",
        "              [4, 5, 6],\n",
        "              [7, 8, 9],\n",
        "              [10, 11, 12]])\n",
        "a = np.array([[1, 1, 0]])\n",
        "b = np.array([[-1], [2], [5]])\n",
        "### END CODE HERE\n",
        "print(\"M = \\n\", M)\n",
        "print(\"The size of M is: \", M.shape)\n",
        "print()\n",
        "print(\"a = \", a)\n",
        "print(\"The size of a is: \", a.shape)\n",
        "print()\n",
        "print(\"b = \", b)\n",
        "print(\"The size of b is: \", b.shape)"
      ]
    },
    {
      "cell_type": "markdown",
      "metadata": {
        "id": "yld5HABqvF_N"
      },
      "source": [
        "## Question 1.2 (5 points)\n",
        "Implement the `dot_product()` method below and check that it returns the correct answer for $a^Tb$."
      ]
    },
    {
      "cell_type": "code",
      "execution_count": null,
      "metadata": {
        "id": "6T6tWrCPhP3e"
      },
      "outputs": [],
      "source": [
        "def dot_product(a, b):\n",
        "    \"\"\"Implement dot product between the two vectors: a and b.\n",
        "\n",
        "    (optional): While you can solve this using for loops, we recommend\n",
        "    that you look up `np.dot()` online and use that instead.\n",
        "\n",
        "    Args:\n",
        "        a: numpy array of shape (x, n)\n",
        "        b: numpy array of shape (n, x)\n",
        "\n",
        "    Returns:\n",
        "        out: numpy array of shape (x, x) (scalar if x = 1)\n",
        "    \"\"\"\n",
        "    out = None\n",
        "    ### YOUR CODE HERE\n",
        "    out = np.dot(a, b)\n",
        "    ### END YOUR CODE\n",
        "    return out"
<<<<<<< HEAD
      ],
      "metadata": {
        "id": "6T6tWrCPhP3e"
      },
      "execution_count": 6,
      "outputs": []
=======
      ]
>>>>>>> upstream/master
    },
    {
      "cell_type": "code",
      "execution_count": 7,
      "metadata": {
        "id": "jhwxJIOIvF_N",
        "outputId": "8bd3eb70-f1a6-4daf-aee2-28d1be91d50d",
        "colab": {
          "base_uri": "https://localhost:8080/"
        }
      },
      "outputs": [
        {
          "output_type": "stream",
          "name": "stdout",
          "text": [
            "[[1]]\n",
            "The size is:  (1, 1)\n"
          ]
        }
      ],
      "source": [
        "# Now, let's test out this dot product. Your answer should be [[1]].\n",
        "aDotB = dot_product(a, b)\n",
        "print(aDotB)\n",
        "\n",
        "print(\"The size is: \", aDotB.shape)"
      ]
    },
    {
      "cell_type": "markdown",
      "metadata": {
        "id": "9drZmTD2vF_N"
      },
      "source": [
        "## Question 1.3 (5 points)\n",
        "Implement the `complicated_matrix_function()` method below and use it to compute $(ab)Ma^T$\n",
        "\n",
        "IMPORTANT NOTE: The `complicated_matrix_function()` method expects all inputs to be two dimensional numpy arrays, as opposed to 1-D arrays.  This is an important distinction, because 2-D arrays can be transposed, while 1-D arrays cannot.\n",
        "\n",
        "To transpose a 2-D array, you can use the syntax `array.T`"
      ]
    },
    {
      "cell_type": "code",
      "execution_count": null,
      "metadata": {
        "id": "8i-HNs9Thl6j"
      },
      "outputs": [],
      "source": [
        "def complicated_matrix_function(M, a, b):\n",
        "    \"\"\"Implement (a * b) * (M * a.T).\n",
        "\n",
        "    (optional): Use the `dot_product(a, b)` function you wrote above\n",
        "    as a helper function.\n",
        "\n",
        "    Args:\n",
        "        M: numpy matrix of shape (x, n).\n",
        "        a: numpy array of shape (1, n).\n",
        "        b: numpy array of shape (n, 1).\n",
        "\n",
        "    Returns:\n",
        "        out: numpy matrix of shape (x, 1).\n",
        "    \"\"\"\n",
        "    out = None\n",
        "    ### YOUR CODE HERE\n",
        "    arg1 = dot_product(a, b)  # Creates scalar size 1\n",
        "    arg2 = dot_product(M, a.T)  # Creates matrix with shape (x, 1)\n",
        "    out = arg1 * arg2  # Multiply scalar * matrix\n",
        "    ### END YOUR CODE\n",
        "\n",
        "    return out"
<<<<<<< HEAD
      ],
      "metadata": {
        "id": "8i-HNs9Thl6j"
      },
      "execution_count": 8,
      "outputs": []
=======
      ]
>>>>>>> upstream/master
    },
    {
      "cell_type": "code",
      "execution_count": 9,
      "metadata": {
        "id": "HxtlMhRZvF_N",
        "colab": {
          "base_uri": "https://localhost:8080/"
        },
        "outputId": "178a7123-5cf8-46f3-eb30-f9eec300e688"
      },
      "outputs": [
        {
          "output_type": "stream",
          "name": "stdout",
          "text": [
            "[[ 3]\n",
            " [ 9]\n",
            " [15]\n",
            " [21]]\n",
            "\n",
            "The size is:  (4, 1)\n"
          ]
        }
      ],
      "source": [
        "# Your answer should be $[[3], [9], [15], [21]]$ of shape(4, 1).\n",
        "ans = complicated_matrix_function(M, a, b)\n",
        "print(ans)\n",
        "print()\n",
        "print(\"The size is: \", ans.shape)"
      ]
    },
    {
      "cell_type": "code",
      "execution_count": 11,
      "metadata": {
        "id": "enpz9sluvF_N",
        "colab": {
          "base_uri": "https://localhost:8080/"
        },
        "outputId": "538d75b9-d28e-4335-db4b-825f98d87ce6"
      },
      "outputs": [
        {
          "output_type": "stream",
          "name": "stdout",
          "text": [
            "(2, 2)\n",
            "(1, 2)\n",
            "(2, 1)\n",
            "\n",
            "[[ 20]\n",
            " [100]]\n",
            "\n",
            "The size is:  (2, 1)\n"
          ]
        }
      ],
      "source": [
        "M_2 = np.array(range(4)).reshape((2,2))\n",
        "a_2 = np.array([[1,1]])\n",
        "b_2 = np.array([[10, 10]]).T\n",
        "print(M_2.shape)\n",
        "print(a_2.shape)\n",
        "print(b_2.shape)\n",
        "print()\n",
        "\n",
        "# Your answer should be $[[20], [100]]$ of shape(2, 1).\n",
        "ans = complicated_matrix_function(M_2, a_2, b_2)\n",
        "print(ans)\n",
        "print()\n",
        "print(\"The size is: \", ans.shape)"
      ]
    },
    {
      "cell_type": "markdown",
      "metadata": {
        "id": "fzO1rzJyvF_N"
      },
      "source": [
        "## Question 1.4 (10 points)\n",
        "Implement `eigen_decomp()` and `get_eigen_values_and_vectors()` methods. In this method, perform eigenvalue decomposition on the following matrix and return the largest k eigen values and corresponding eigen vectors (k is specified in the method calls below).\n",
        "\n",
        "$$M = \\begin{bmatrix}\n",
        "1 & 2 & 3 \\\\\n",
        "4 & 5 & 6 \\\\\n",
        "7 & 8 & 9 \\end{bmatrix}\n",
        "$$\n"
      ]
    },
    {
      "cell_type": "code",
      "execution_count": null,
      "metadata": {
        "id": "xfnH5CgthyOI"
      },
      "outputs": [],
      "source": [
        "def eigen_decomp(M):\n",
        "    \"\"\"Implement eigenvalue decomposition.\n",
        "\n",
        "    (optional): You might find the `np.linalg.eig` function useful.\n",
        "\n",
        "    Args:\n",
        "        matrix: numpy matrix of shape (m, m)\n",
        "\n",
        "    Returns:\n",
        "        w: numpy array of shape (m,) such that the column v[:,i] is the eigenvector corresponding to the eigenvalue w[i].\n",
        "        v: Matrix where every column is an eigenvector.\n",
        "    \"\"\"\n",
        "    w = None\n",
        "    v = None\n",
        "    ### YOUR CODE HERE\n",
        "    w, v = np.linalg.eig(M)\n",
        "    ### END YOUR CODE\n",
        "    return w, v"
<<<<<<< HEAD
      ],
      "metadata": {
        "id": "xfnH5CgthyOI"
      },
      "execution_count": 14,
      "outputs": []
=======
      ]
>>>>>>> upstream/master
    },
    {
      "cell_type": "code",
      "execution_count": null,
      "metadata": {
        "id": "SXc6lqC2hy8B"
      },
      "outputs": [],
      "source": [
        "def get_eigen_values_and_vectors(M, k):\n",
        "    \"\"\"Return top k eigenvalues and eigenvectors of matrix M. By top k\n",
        "    here we mean the eigenvalues with the top ABSOLUTE values (lookup\n",
        "    np.argsort for a hint on how to do so.)\n",
        "\n",
        "    (optional): Use the `eigen_decomp(M)` function you wrote above\n",
        "    as a helper function\n",
        "\n",
        "    Args:\n",
        "        M: numpy matrix of shape (m, m).\n",
        "        k: number of eigen values and respective vectors to return.\n",
        "\n",
        "    Returns:\n",
        "        eigenvalues: list of length k containing the top k eigenvalues\n",
        "        eigenvectors: list of length k containing the top k eigenvectors\n",
        "            of shape (m,)\n",
        "    \"\"\"\n",
        "    eigenvalues = []\n",
        "    eigenvectors = []\n",
        "    ### YOUR CODE HERE\n",
        "    w, v = eigen_decomp(M)\n",
        "    sorted_evalues = np.argsort(w)\n",
        "    sorted_evectors = np.argsort(v)\n",
        "\n",
        "    eigenvalues = w[sorted_evalues][:k]\n",
        "    eigenvectors = v[sorted_evectors][:k]\n",
        "\n",
        "    ### END YOUR CODE\n",
        "    return eigenvalues, eigenvectors"
<<<<<<< HEAD
      ],
      "metadata": {
        "id": "SXc6lqC2hy8B"
      },
      "execution_count": 15,
      "outputs": []
=======
      ]
>>>>>>> upstream/master
    },
    {
      "cell_type": "code",
      "execution_count": 16,
      "metadata": {
        "id": "Yeeinwh5vF_N",
        "colab": {
          "base_uri": "https://localhost:8080/"
        },
        "outputId": "5642803a-2be7-42e6-df5a-25fb0de5632c"
      },
      "outputs": [
        {
          "output_type": "stream",
          "name": "stdout",
          "text": [
            "First eigenvalue = -1.1168439698070427\n",
            "\n",
            "First eigenvector = [[-0.52532209 -0.08675134 -0.81649658]\n",
            " [-0.23197069 -0.78583024  0.40824829]\n",
            " [-0.8186735   0.61232756  0.40824829]]\n",
            "\n",
            "Eigenvalues = [-1.11684397e+00 -1.30367773e-15]\n",
            "\n",
            "Eigenvectors = [[[-0.52532209 -0.08675134 -0.81649658]\n",
            "  [-0.23197069 -0.78583024  0.40824829]\n",
            "  [-0.8186735   0.61232756  0.40824829]]\n",
            "\n",
            " [[-0.8186735   0.61232756  0.40824829]\n",
            "  [-0.23197069 -0.78583024  0.40824829]\n",
            "  [-0.52532209 -0.08675134 -0.81649658]]]\n"
          ]
        }
      ],
      "source": [
        "# Let's define M.\n",
        "M = np.array([[1,2,3],[4,5,6],[7,8,9]])\n",
        "\n",
        "# Now let's grab the first eigenvalue and first eigenvector.\n",
        "# You should get back a single eigenvalue and a single eigenvector.\n",
        "val, vec = get_eigen_values_and_vectors(M[:,:3], 1)\n",
        "print(\"First eigenvalue =\", val[0])\n",
        "print()\n",
        "print(\"First eigenvector =\", vec[0])\n",
        "print()\n",
        "assert len(vec) == 1\n",
        "\n",
        "# Now, let's get the first two eigenvalues and eigenvectors.\n",
        "# You should get back a list of two eigenvalues and a list of two eigenvector arrays.\n",
        "val, vec = get_eigen_values_and_vectors(M[:,:3], 2)\n",
        "print(\"Eigenvalues =\", val)\n",
        "print()\n",
        "print(\"Eigenvectors =\", vec)\n",
        "assert len(vec) == 2"
      ]
    },
    {
      "cell_type": "markdown",
      "metadata": {
        "id": "nPB5JDZ8vF_N"
      },
      "source": [
        "## Question 1.5 (10 points)\n",
        "\n",
        "To wrap up our overview of NumPy, let's implement something fun &mdash; a helper function for computing the Euclidean distance between two $n$-dimensional points!\n",
        "\n",
        "In the 2-dimensional case, computing the Euclidean distance reduces to solving the Pythagorean theorem $c = \\sqrt{a^2 + b^2}$:\n",
        "\n",
        "![pythagorean.png](https://drive.google.com/uc?export=view&id=1h_A38Ge4IXnBjlO6v0-axBnUmBMJviJH)\n",
        "\n",
        "\n",
        "\n",
        "...where, given two points $(x_1, y_1)$ and $(x_2, y_2)$, $a = x_1 - x_2$ and $b = y_1 - y_2$.\n",
        "\n",
        "\n",
        "More generally, given two $n$-dimensional vectors, the Euclidean distance can be computed by:\n",
        "\n",
        "1. Performing an elementwise subtraction between the two vectors, to get $n$ difference values.\n",
        "2. Squaring each of the $n$ difference values, and summing the squares.\n",
        "4. Taking the square root of our sum.\n",
        "\n",
        "Alternatively, the Euclidean distance between length-$n$ vectors $u$ and $v$ can be written as:\n",
        "\n",
        "$\n",
        "\\quad\\textbf{distance}(u, v) = \\sqrt{\\sum_{i=1}^n (u_i - v_i)^2}\n",
        "$\n",
        "\n",
        "\n",
        "Try implementing this function: first using native Python with a `for` loop in the `euclidean_distance_native()` function, then in NumPy **without any loops** in the `euclidean_distance_numpy()` function.\n",
        "We've added some `assert`  statements here to help you check functionality (if it prints nothing, then your implementation is correct)!"
      ]
    },
    {
      "cell_type": "code",
      "execution_count": null,
      "metadata": {
        "id": "bpc_6ytjh4gY"
      },
      "outputs": [],
      "source": [
        "def euclidean_distance_native(u, v):\n",
        "    \"\"\"Computes the Euclidean distance between two vectors, represented as Python\n",
        "    lists.\n",
        "\n",
        "    Args:\n",
        "        u (List[float]): A vector, represented as a list of floats.\n",
        "        v (List[float]): A vector, represented as a list of floats.\n",
        "\n",
        "    Returns:\n",
        "        float: Euclidean distance between `u` and `v`.\n",
        "    \"\"\"\n",
        "    # First, run some checks:\n",
        "    assert isinstance(u, list)\n",
        "    assert isinstance(v, list)\n",
        "    assert len(u) == len(v)\n",
        "\n",
        "    # Compute the distance!\n",
        "    # Notes:\n",
        "    #  1) Try breaking this problem down: first, we want to get\n",
        "    #     the difference between corresponding elements in our\n",
        "    #     input arrays. Then, we want to square these differences.\n",
        "    #     Finally, we want to sum the squares and square root the\n",
        "    #     sum.\n",
        "\n",
        "    ### YOUR CODE HERE\n",
        "    sum = 0\n",
        "    for i in range(len(u)):\n",
        "      difference = u[i] - v[i]\n",
        "      square = pow(difference, 2)\n",
        "      sum += square\n",
        "\n",
        "    result = sum ** 0.5\n",
        "\n",
        "    return result\n",
        "    ### END YOUR CODE"
<<<<<<< HEAD
      ],
      "metadata": {
        "id": "bpc_6ytjh4gY"
      },
      "execution_count": 21,
      "outputs": []
=======
      ]
>>>>>>> upstream/master
    },
    {
      "cell_type": "code",
      "execution_count": 22,
      "metadata": {
        "id": "NYboVRxgvF_N"
      },
      "outputs": [],
      "source": [
        "## Testing native Python function\n",
        "assert euclidean_distance_native([7.0], [6.0]) == 1.0\n",
        "assert euclidean_distance_native([7.0, 0.0], [3.0, 3.0]) == 5.0\n",
        "assert euclidean_distance_native([7.0, 0.0, 0.0], [3.0, 0.0, 3.0]) == 5.0"
      ]
    },
    {
      "cell_type": "code",
      "execution_count": null,
      "metadata": {
        "id": "Sg2xfBDYh_WU"
      },
      "outputs": [],
      "source": [
        "def euclidean_distance_numpy(u, v):\n",
        "    \"\"\"Computes the Euclidean distance between two vectors, represented as NumPy\n",
        "    arrays.\n",
        "\n",
        "    Args:\n",
        "        u (np.ndarray): A vector, represented as a NumPy array.\n",
        "        v (np.ndarray): A vector, represented as a NumPy array.\n",
        "\n",
        "    Returns:\n",
        "        float: Euclidean distance between `u` and `v`.\n",
        "    \"\"\"\n",
        "    # First, run some checks:\n",
        "    assert isinstance(u, np.ndarray)\n",
        "    assert isinstance(v, np.ndarray)\n",
        "    assert u.shape == v.shape\n",
        "\n",
        "    # Compute the distance!\n",
        "    # Note:\n",
        "    #  1) You shouldn't need any loops\n",
        "    #  2) Some functions you can Google that might be useful:\n",
        "    #         np.sqrt(), np.sum()\n",
        "    #  3) Try breaking this problem down: first, we want to get\n",
        "    #     the difference between corresponding elements in our\n",
        "    #     input arrays. Then, we want to square these differences.\n",
        "    #     Finally, we want to sum the squares and square root the\n",
        "    #     sum.\n",
        "\n",
        "    ### YOUR CODE HERE\n",
        "    pass\n",
        "    ### END YOUR CODE"
      ]
    },
    {
      "cell_type": "code",
      "execution_count": null,
      "metadata": {
        "id": "cLiqmCF1vF_N"
      },
      "outputs": [],
      "source": [
        "## Testing NumPy function\n",
        "assert euclidean_distance_numpy(\n",
        "    np.array([7.0]),\n",
        "    np.array([6.0])\n",
        ") == 1.0\n",
        "assert euclidean_distance_numpy(\n",
        "    np.array([7.0, 0.0]),\n",
        "    np.array([3.0, 3.0])\n",
        ") == 5.0\n",
        "assert euclidean_distance_numpy(\n",
        "    np.array([7.0, 0.0, 0.0]),\n",
        "    np.array([3.0, 0.0, 3.0])\n",
        ") == 5.0"
      ]
    },
    {
      "cell_type": "markdown",
      "metadata": {
        "id": "ej6SnRR3vF_N"
      },
      "source": [
        "Next, let's take a look at how these two implementations compare in terms of runtime:"
      ]
    },
    {
      "cell_type": "code",
      "execution_count": null,
      "metadata": {
        "id": "8Y4kckihvF_O"
      },
      "outputs": [],
      "source": [
        "n = 1000\n",
        "\n",
        "# Create some length-n lists and/or n-dimensional arrays\n",
        "a = [0.0] * n\n",
        "b = [10.0] * n\n",
        "a_array = np.array(a)\n",
        "b_array = np.array(b)\n",
        "\n",
        "# Compute runtime for native implementation\n",
        "start_time = time.time()\n",
        "for i in range(10000):\n",
        "    euclidean_distance_native(a, b)\n",
        "print(\"Native:\", (time.time() - start_time), \"seconds\")\n",
        "\n",
        "# Compute runtime for numpy implementation\n",
        "# Start by grabbing the current time in seconds\n",
        "start_time = time.time()\n",
        "for i in range(10000):\n",
        "    euclidean_distance_numpy(a_array, b_array)\n",
        "print(\"NumPy:\", (time.time() - start_time), \"seconds\")"
      ]
    },
    {
      "cell_type": "markdown",
      "metadata": {
        "id": "qHrAKmETvF_O"
      },
      "source": [
        "As you can see, doing vectorized calculations (i.e. no for loops) with NumPy results in significantly faster computations!"
      ]
    },
    {
      "cell_type": "markdown",
      "metadata": {
        "id": "xLvGGjR6vF_O"
      },
      "source": [
        "# Part 2: Image Manipulation\n",
        "\n",
        "Now that you are familiar with using matrices and vectors. Let's load some images and treat them as matrices and do some operations on them. Make sure you've followed the instructions at the top of the notebook (you've cloned `CS131_release` and are in the correct directory)."
      ]
    },
    {
      "cell_type": "code",
      "execution_count": null,
      "metadata": {
        "id": "r1qlIkmgvF_O"
      },
      "outputs": [],
      "source": [
        "# Run this code to set the locations of the images we will be using.\n",
        "# You can change these paths to point to your own images if you want to try them out for fun.\n",
        "\n",
        "image1_path = 'image1.jpg'\n",
        "image2_path = 'image2.jpg'\n",
        "\n",
        "def display(img):\n",
        "    # Show image\n",
        "    plt.figure(figsize = (5,5))\n",
        "    plt.imshow(img)\n",
        "    plt.axis('off')\n",
        "    plt.show()"
      ]
    },
    {
      "cell_type": "markdown",
      "metadata": {
        "id": "4W6YIau8vF_O"
      },
      "source": [
        "## Question 2.1 (5 points)\n",
        "Read the `display()` method above and implement the `load()` method below. We will use these two methods through the rest of the notebook to visualize our work."
      ]
    },
    {
      "cell_type": "code",
      "execution_count": null,
      "metadata": {
        "id": "Nlpa5yUIil2J"
      },
      "outputs": [],
      "source": [
        "def load(image_path):\n",
        "    \"\"\"Loads an image from a file path.\n",
        "\n",
        "    HINT: Look up `skimage.io.imread()` function.\n",
        "\n",
        "    Args:\n",
        "        image_path: file path to the image.\n",
        "\n",
        "    Returns:\n",
        "        out: numpy array of shape(image_height, image_width, 3).\n",
        "    \"\"\"\n",
        "    out = None\n",
        "\n",
        "    ### YOUR CODE HERE\n",
        "    # Use skimage io.imread\n",
        "    pass\n",
        "    ### END YOUR CODE\n",
        "\n",
        "    # Let's convert the image to be between the correct range.\n",
        "    out = out.astype(np.float64) / 255\n",
        "    return out"
      ]
    },
    {
      "cell_type": "code",
      "execution_count": null,
      "metadata": {
        "id": "8x0WZjnjvF_O"
      },
      "outputs": [],
      "source": [
        "image1 = load(image1_path)\n",
        "\n",
        "display(image1)"
      ]
    },
    {
      "cell_type": "markdown",
      "metadata": {
        "id": "Avl1s7ArvF_O"
      },
      "source": [
        "## Question 2.2 (5 points)\n",
        "One of the most common operations we perform when working with images is rectangular **cropping**, or the action of removing unwanted outer areas of an image.\n",
        "\n",
        "Take a look at this code we've written to crop out everything but the eyes of our baboon from above:"
      ]
    },
    {
      "cell_type": "code",
      "execution_count": null,
      "metadata": {
        "id": "lbkv2zSJvF_O"
      },
      "outputs": [],
      "source": [
        "display(image1[10:60, 70:230, :])"
      ]
    },
    {
      "cell_type": "markdown",
      "metadata": {
        "id": "WmjP_uU8vF_O"
      },
      "source": [
        "Implement the `crop_image()` method by taking in the starting row index, starting column index, number of rows, and number of columns, and outputting the cropped image.\n",
        "\n",
        "Then, in the cell below, see if you can pull out a 100x100 square from each corner of the original `image1`: the top left, top right, bottom left, and bottom right."
      ]
    },
    {
      "cell_type": "code",
      "execution_count": null,
      "metadata": {
        "id": "j7cIiOfOjI54"
      },
      "outputs": [],
      "source": [
        "def crop_image(image, start_row, start_col, num_rows, num_cols):\n",
        "    \"\"\"Crop an image based on the specified bounds.\n",
        "\n",
        "    Args:\n",
        "        image: numpy array of shape(image_height, image_width, 3).\n",
        "        start_row (int): The starting row index we want to include in our cropped image.\n",
        "        start_col (int): The starting column index we want to include in our cropped image.\n",
        "        num_rows (int): Number of rows in our desired cropped image.\n",
        "        num_cols (int): Number of columns in our desired cropped image.\n",
        "\n",
        "    Returns:\n",
        "        out: numpy array of shape(num_rows, num_cols, 3).\n",
        "    \"\"\"\n",
        "\n",
        "    out = None\n",
        "\n",
        "    ### YOUR CODE HERE\n",
        "    pass\n",
        "    ### END YOUR CODE\n",
        "\n",
        "    return out"
      ]
    },
    {
      "cell_type": "code",
      "execution_count": null,
      "metadata": {
        "id": "_Lq22ccsvF_O"
      },
      "outputs": [],
      "source": [
        "r, c = image1.shape[0], image1.shape[1]\n",
        "\n",
        "top_left_corner = crop_image(image1, 0, 0, 100, 100)\n",
        "top_right_corner = crop_image(image1, 0, c-100, 100, 100)\n",
        "bottom_left_corner = crop_image(image1, r-100, 0, 100, 100)\n",
        "bottom_right_corner = crop_image(image1, r-100, c-100, 100, 100)\n",
        "\n",
        "display(top_left_corner)\n",
        "display(top_right_corner)\n",
        "display(bottom_left_corner)\n",
        "display(bottom_right_corner)"
      ]
    },
    {
      "cell_type": "markdown",
      "metadata": {
        "id": "QN7goHAEvF_O"
      },
      "source": [
        "## Question 2.3 (10 points)\n",
        "Implement the `dim_image()` method by converting images according to  $x_n = 0.5*x_p^2$ for every pixel, where $x_n$ is the new value and $x_p$ is the original value.\n",
        "\n",
        "Note: Since all the pixel values of the image are in the range $[0, 1]$, the above formula will result in reducing these pixels values and therefore make the image dimmer."
      ]
    },
    {
      "cell_type": "code",
      "execution_count": null,
      "metadata": {
        "id": "uQ9_nCFpjaU3"
      },
      "outputs": [],
      "source": [
        "def dim_image(image):\n",
        "    \"\"\"Change the value of every pixel by following\n",
        "\n",
        "                        x_n = 0.5*x_p^2\n",
        "\n",
        "    where x_n is the new value and x_p is the original value.\n",
        "\n",
        "    Args:\n",
        "        image: numpy array of shape(image_height, image_width, 3).\n",
        "\n",
        "    Returns:\n",
        "        out: numpy array of shape(image_height, image_width, 3).\n",
        "    \"\"\"\n",
        "\n",
        "    out = None\n",
        "\n",
        "    ### YOUR CODE HERE\n",
        "    pass\n",
        "    ### END YOUR CODE\n",
        "\n",
        "    return out"
      ]
    },
    {
      "cell_type": "code",
      "execution_count": null,
      "metadata": {
        "id": "QGGjaJOZvF_O"
      },
      "outputs": [],
      "source": [
        "new_image = dim_image(image1)\n",
        "display(new_image)"
      ]
    },
    {
      "cell_type": "markdown",
      "metadata": {
        "id": "-V_hzJPWvF_O"
      },
      "source": [
        "## Question 2.4 (10 points)\n",
        "Let's try another commonly used operation: image resizing!\n",
        "\n",
        "At a high level, image resizing should go something like this:\n",
        "\n",
        "1. We create an (initially empty) output array of the desired size, `output_image`\n",
        "2. We iterate over each pixel position `(i,j)` in the output image\n",
        "    - For each output pixel, we compute a corresponding input pixel `(input_i, input_j)`\n",
        "    - We assign `output_image[i, j, :]` to `input_image[input_i, input_j, :]`\n",
        "3. We return the resized output image\n",
        "\n",
        "We want `input_i` and `input_j` to increase proportionally with `i` and `j` respectively:\n",
        "\n",
        "- `input_i` can be computed as `int(i * row_scale_factor)`\n",
        "- `input_j` can be computed as `int(j * col_scale_factor)`\n",
        "\n",
        "...where `int()` is a Python operation takes a float and rounds it down to the nearest integer, and `row_scale_factor` and `col_scale_factor` are constants computed from the image input/output sizes.\n",
        "\n",
        "Try to figure out what `row_scale_factor` and `col_scale_factor` should be, then implement this algorithm in the `resize_image()` method! Then, run the cells below to test out your image resizing algorithm!\n",
        "\n",
        "When you downsize the baboon to 16x16, you should expect an output that looks something like this:\n",
        "\n",
        "![16_16_baboon.png](https://drive.google.com/uc?export=view&id=1j7YMLRAOhKBd1Wj7m4PsE9o6-Z9jUfET)\n",
        "\n",
        "\n",
        "When you stretch it horizontally to 50x400, you should get:\n",
        "\n",
        "![50_400_baboon.png](https://drive.google.com/uc?export=view&id=1KvAxUBgew8b19zjBBgSB2-zH0DCFAxrM)"
      ]
    },
    {
      "cell_type": "code",
      "execution_count": null,
      "metadata": {
        "id": "AJct3_IDjg_Y"
      },
      "outputs": [],
      "source": [
        "def resize_image(input_image, output_rows, output_cols):\n",
        "    \"\"\"Resize an image using the nearest neighbor method.\n",
        "\n",
        "    Args:\n",
        "        input_image (np.ndarray): RGB image stored as an array, with shape\n",
        "            `(input_rows, input_cols, 3)`.\n",
        "        output_rows (int): Number of rows in our desired output image.\n",
        "        output_cols (int): Number of columns in our desired output image.\n",
        "\n",
        "    Returns:\n",
        "        np.ndarray: Resized image, with shape `(output_rows, output_cols, 3)`.\n",
        "    \"\"\"\n",
        "    input_rows, input_cols, channels = input_image.shape\n",
        "    assert channels == 3\n",
        "\n",
        "    # 1. Create the resized output image\n",
        "    output_image = np.zeros(shape=(output_rows, output_cols, 3))\n",
        "\n",
        "    # 2. Populate the `output_image` array using values from `input_image`\n",
        "    #    > This should require two nested for loops!\n",
        "\n",
        "    ### YOUR CODE HERE\n",
        "    pass\n",
        "    ### END YOUR CODE\n",
        "\n",
        "    # 3. Return the output image\n",
        "    return output_image"
      ]
    },
    {
      "cell_type": "code",
      "execution_count": null,
      "metadata": {
        "id": "fPx49RnMvF_O"
      },
      "outputs": [],
      "source": [
        "display(resize_image(image1, 16, 16))"
      ]
    },
    {
      "cell_type": "code",
      "execution_count": null,
      "metadata": {
        "id": "h44Ui-EuvF_O"
      },
      "outputs": [],
      "source": [
        "display(resize_image(image1, 50, 400))"
      ]
    },
    {
      "cell_type": "markdown",
      "metadata": {
        "id": "qYomF-wWvF_O"
      },
      "source": [
        "**Question:** In the resize algorithm we describe above, the output is populated by iterating over the indices of the output image. Could we implement image resizing by iterating over the indices of the input image instead? How do the two approaches compare?\n",
        "\n",
        "> *Your response here!*"
      ]
    },
    {
      "cell_type": "markdown",
      "metadata": {
        "id": "pwT1j1SuvF_P"
      },
      "source": [
        "## Question 2.5 (15 points)\n",
        "\n",
        "One more operation that you can try implementing is **image rotation**. This is part of a real interview question that we've encountered for actual computer vision jobs (notably at Facebook), and we expect it to require quite a bit more thinking."
      ]
    },
    {
      "cell_type": "markdown",
      "metadata": {
        "id": "MBNB_CRyvF_P"
      },
      "source": [
        "#### a) Rotating 2D coordinates (5 points)\n",
        "\n",
        "Before we start thinking about rotating full images, let's start by taking a look at rotating `(x, y)` coordinates:\n",
        "\n",
        "![coordinate_rotation.png](https://drive.google.com/uc?export=view&id=1AP-h20FVLpUlsZjeu88x0rI4_vndi8XF)\n",
        "\n",
        "Using `np.cos()` and `np.sin()`, implement the `rotate2d()` method to compute the coordinates $(x', y')$ rotated by theta radians from $(x, y)$.\n",
        "\n",
        "Once you've implemented the function, test your implementation below using the assert statements (if it prints nothing, then your implementation is correct):"
      ]
    },
    {
      "cell_type": "code",
      "execution_count": null,
      "metadata": {
        "id": "U8ArvRCCjleM"
      },
      "outputs": [],
      "source": [
        "def rotate2d(point, theta):\n",
        "    \"\"\"Rotate a 2D coordinate by some angle theta.\n",
        "\n",
        "    Args:\n",
        "        point (np.ndarray): A 1D NumPy array containing two values: an x and y coordinate.\n",
        "        theta (float): An theta to rotate by, in radians.\n",
        "\n",
        "    Returns:\n",
        "        np.ndarray: A 1D NumPy array containing your rotated x and y values.\n",
        "    \"\"\"\n",
        "    assert point.shape == (2,)\n",
        "    assert isinstance(theta, float)\n",
        "\n",
        "    # Reminder: np.cos() and np.sin() will be useful here!\n",
        "\n",
        "    ### YOUR CODE HERE\n",
        "    pass\n",
        "    ### END YOUR CODE"
      ]
    },
    {
      "cell_type": "code",
      "execution_count": null,
      "metadata": {
        "id": "PIFcF4SHvF_P"
      },
      "outputs": [],
      "source": [
        "assert rotate2d(np.array([1.0, 0.0]), 0.0).shape == (\n",
        "    2,\n",
        "), \"Output shape incorrect!\"\n",
        "assert np.allclose(\n",
        "    rotate2d(np.array([1.0, 0.0]), 0.0), np.array([1.0, 0.0])\n",
        "), \"\"\n",
        "assert np.allclose(\n",
        "    rotate2d(np.array([1.0, 0.0]), np.pi / 2.0), np.array([0.0, 1.0])\n",
        "), \"\""
      ]
    },
    {
      "cell_type": "markdown",
      "metadata": {
        "id": "ubUnR6OyvF_P"
      },
      "source": [
        "Run the cell below to visualize a point as it's rotated around the origin by a set of evenly-spaced angles! You should see 30 points arranged in a circle."
      ]
    },
    {
      "cell_type": "code",
      "execution_count": null,
      "metadata": {
        "id": "e8-xxZGIvF_P"
      },
      "outputs": [],
      "source": [
        "# Visualize a point being rotated around the origin\n",
        "# We'll use the matplotlib library for this!\n",
        "import matplotlib.pyplot as plt\n",
        "\n",
        "points = np.zeros((30, 2))\n",
        "for i in range(30):\n",
        "    points[i, :] = rotate2d(np.array([1.0, 0.0]), i / 30.0 * (2 * np.pi))\n",
        "\n",
        "plt.scatter(points[:, 0], points[:, 1])\n",
        "plt.show()"
      ]
    },
    {
      "cell_type": "markdown",
      "metadata": {
        "id": "OPv1JbosvF_P"
      },
      "source": [
        "**Question:** Our function currently only rotates input points around the origin (0,0). Using the same `rotate2d` function, how could we rotate the point around a center that wasn't at the origin? **You'll need to do this when you implement image rotation below!**\n",
        "\n",
        "> *Your response here!*"
      ]
    },
    {
      "cell_type": "markdown",
      "metadata": {
        "id": "i8A_51QPvF_P"
      },
      "source": [
        "#### b) Rotate Image (10 points)\n",
        "\n",
        "Finally, use what you've learned about 2D rotations to create and implement the `rotate_image(input_image, theta)` function!\n",
        "\n",
        "For an input angle of $\\pi/4$ (45 degrees), the expected output is:\n",
        "\n",
        "![rotated_output.png](https://drive.google.com/uc?export=view&id=10KvTBxeYx2jR3wTqa_6VnnJ9M0GmLYgl)\n",
        "\n",
        "**Hints:**\n",
        "- We recommend basing your code off your `resize_image()` implementation, and applying the same general approach as before. Iterate over each pixel of an output image `(i, j)`, then fill in a color from a corresponding input pixel `(input_i, input_j)`. In this case, note that the output and input images should be the same size.\n",
        "- If you run into an output pixel whose corresponding input coordinates `input_i` and `input_j` that are invalid, you can just ignore that pixel or set it to black.\n",
        "- In our expected output above, we're rotating each coordinate around the center of the image, not the origin. (the origin is located at the top left)"
      ]
    },
    {
      "cell_type": "code",
      "execution_count": null,
      "metadata": {
        "id": "D762vJNjjvcp"
      },
      "outputs": [],
      "source": [
        "def rotate_image(input_image, theta):\n",
        "    \"\"\"Rotate an image by some angle theta.\n",
        "\n",
        "    Args:\n",
        "        input_image (np.ndarray): RGB image stored as an array, with shape\n",
        "            `(input_rows, input_cols, 3)`.\n",
        "        theta (float): Angle to rotate our image by, in radians.\n",
        "\n",
        "    Returns:\n",
        "        (np.ndarray): Rotated image, with the same shape as the input.\n",
        "    \"\"\"\n",
        "    input_rows, input_cols, channels = input_image.shape\n",
        "    assert channels == 3\n",
        "\n",
        "    # 1. Create an output image with the same shape as the input\n",
        "    output_image = np.zeros_like(input_image)\n",
        "\n",
        "    ### YOUR CODE HERE\n",
        "    pass\n",
        "    ### END YOUR CODE\n",
        "\n",
        "    # 3. Return the output image\n",
        "    return output_image"
      ]
    },
    {
      "cell_type": "code",
      "execution_count": null,
      "metadata": {
        "id": "AhfyPHMrvF_U"
      },
      "outputs": [],
      "source": [
        "# Test that your output matches the expected output\n",
        "display(rotate_image(image1, np.pi / 4.0))"
      ]
    }
  ],
  "metadata": {
    "colab": {
      "provenance": []
    },
    "kernelspec": {
      "display_name": "Python 3",
      "language": "python",
      "name": "python3"
    },
    "language_info": {
      "codemirror_mode": {
        "name": "ipython",
        "version": 3
      },
      "file_extension": ".py",
      "mimetype": "text/x-python",
      "name": "python",
      "nbconvert_exporter": "python",
      "pygments_lexer": "ipython3",
      "version": "3.8.8"
    }
  },
  "nbformat": 4,
  "nbformat_minor": 0
}
