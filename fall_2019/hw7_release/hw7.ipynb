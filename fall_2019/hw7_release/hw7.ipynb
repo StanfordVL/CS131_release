{
 "cells": [
  {
   "cell_type": "markdown",
   "metadata": {},
   "source": [
    "# Homework 7\n",
    "In this homework, we will implement a simplified version of object detection process. Note that the tests on the notebook are not comprehensive, autograder will contain more tests."
   ]
  },
  {
   "cell_type": "code",
   "execution_count": 1,
   "metadata": {},
   "outputs": [],
   "source": [
    "from __future__ import print_function\n",
    "import random \n",
    "import numpy as np\n",
    "import matplotlib.pyplot as plt\n",
    "import matplotlib.patches as patches\n",
    "from skimage import io\n",
    "from skimage.feature import hog\n",
    "from skimage import data, color, exposure\n",
    "from skimage.transform import rescale, resize, downscale_local_mean\n",
    "import glob, os\n",
    "import fnmatch\n",
    "import time\n",
    "\n",
    "import warnings\n",
    "warnings.filterwarnings('ignore')\n",
    "\n",
    "from detection import *\n",
    "from visualization import *\n",
    "from util import *\n",
    "\n",
    "# This code is to make matplotlib figures appear inline in the\n",
    "# notebook rather than in a new window.\n",
    "%matplotlib inline\n",
    "plt.rcParams['figure.figsize'] = (10.0, 8.0) # set default size of plots\n",
    "plt.rcParams['image.interpolation'] = 'nearest'\n",
    "plt.rcParams['image.cmap'] = 'gray'\n",
    "\n",
    "# Some more magic so that the notebook will reload external python modules;\n",
    "# see http://stackoverflow.com/questions/1907993/autoreload-of-modules-in-ipython\n",
    "%load_ext autoreload\n",
    "%autoreload 2\n",
    "%reload_ext autoreload"
   ]
  },
  {
   "cell_type": "markdown",
   "metadata": {
    "collapsed": true
   },
   "source": [
    "# Part 1: Hog Representation (10 points)\n",
    "\n",
    "In this section, we will compute the average hog representation of human faces.<br>\n",
    "There are 31 aligned face images provided in the `\\face` folder. They are all aligned and have the same size. We will get an average face from these images and compute a hog feature representation for the averaged face. <br>\n",
    "Use the hog function provided by skimage library, and implement a hog representation of objects.\n",
    "Implement **`hog_feature`** function in `detection.py`"
   ]
  },
  {
   "cell_type": "code",
   "execution_count": 2,
   "metadata": {},
   "outputs": [],
   "source": [
    "image_paths = fnmatch.filter(os.listdir('./face'), '*.jpg')\n",
    "list.sort(image_paths)\n",
    "n = len(image_paths)\n",
    "face_shape, avg_face = load_faces(image_paths, n)\n",
    "\n",
    "(face_feature, hog_image) = hog_feature(avg_face)\n",
    "\n",
    "print(np.sum(face_feature))\n",
    "assert np.abs(np.sum(face_feature) - 499.970465079) < 1e-2\n",
    "\n",
    "plot_part1(avg_face, hog_image)"
   ]
  },
  {
   "cell_type": "markdown",
   "metadata": {},
   "source": [
    "# Part 2: Sliding Window (30 points)\n",
    "Implement **`sliding_window`** function to have windows slide across an image with a specific window size. The window slides through the image and check if an object is detected with a high score at every location. These scores will generate a response map and you will be able to find the location of the window with the highest hog score. \n"
   ]
  },
  {
   "cell_type": "code",
   "execution_count": null,
   "metadata": {},
   "outputs": [],
   "source": [
    "image_path = 'image_0001.jpg'\n",
    "\n",
    "image = io.imread(image_path, as_grey=True)\n",
    "image = rescale(image, 0.8)\n",
    "\n",
    "(hogFeature, hogImage) = hog_feature(image)\n",
    "\n",
    "(winH, winW) = face_shape\n",
    "(score, r, c, response_map) = sliding_window(image, face_feature, stepSize=30, windowSize=face_shape)\n",
    "crop = image[r:r+winH, c:c+winW]\n",
    "\n",
    "plot_part2(image, r, c, response_map, winW, winH)"
   ]
  },
  {
   "cell_type": "markdown",
   "metadata": {},
   "source": [
    "Sliding window successfully found the human face in the above example. However, in the cell below, we are only changing the scale of the image, and you can see that sliding window does not work once the scale of the image is changed. "
   ]
  },
  {
   "cell_type": "code",
   "execution_count": null,
   "metadata": {},
   "outputs": [],
   "source": [
    "image_path = 'image_0001.jpg'\n",
    "image = io.imread(image_path, as_grey=True)\n",
    "image = rescale(image, 1.0)\n",
    "\n",
    "(winH, winW) = face_shape\n",
    "(score, r, c, max_response_map) = sliding_window(image, face_feature, stepSize=30, windowSize=face_shape)\n",
    "\n",
    "crop = image[r:r+winH, c:c+winW]\n",
    "\n",
    "plot_part2(image, r, c, max_response_map, winW, winH)"
   ]
  },
  {
   "cell_type": "markdown",
   "metadata": {},
   "source": [
    "# Part 3: Image Pyramids (25 points)\n",
    "In order to make sliding window work for different scales of images, you need to implement image pyramids where you resize the image to different scales and run the sliding window method on each resized image. This way you scale the objects and can detect both small and large objects. \n"
   ]
  },
  {
   "cell_type": "markdown",
   "metadata": {},
   "source": [
    "###  3.1 Image Pyramid (10 points)\n",
    "\n",
    "Implement **`pyramid`** function in `detection.py`, this will create pyramid of images at different scales. Run the following code, and you will see the shape of the original image gets smaller until it reaches a minimum size.\n"
   ]
  },
  {
   "cell_type": "code",
   "execution_count": 5,
   "metadata": {},
   "outputs": [],
   "source": [
    "image_path = 'image_0001.jpg'\n",
    "\n",
    "image = io.imread(image_path, as_grey=True)\n",
    "image = rescale(image, 1.2)\n",
    "\n",
    "images = pyramid(image, scale = 0.9)\n",
    "\n",
    "plot_part3_1(images)"
   ]
  },
  {
   "cell_type": "markdown",
   "metadata": {},
   "source": [
    "###  3.2 Pyramid Score (15 points)\n",
    "\n",
    "After getting the image pyramid, we will run sliding window on all the images to find a place that gets the highest score. Implement **`pyramid_score`** function in `detection.py`. It will return the highest score and its related information in the image pyramids."
   ]
  },
  {
   "cell_type": "code",
   "execution_count": 6,
   "metadata": {},
   "outputs": [],
   "source": [
    "image_path = 'image_0001.jpg'\n",
    "\n",
    "image = io.imread(image_path, as_grey=True)\n",
    "image = rescale(image, 1.2)\n",
    "\n",
    "(winH, winW) = face_shape\n",
    "max_score, maxr, maxc, max_scale, max_response_map = pyramid_score \\\n",
    "        (image, face_feature, face_shape, stepSize = 30, scale=0.8)\n",
    "\n",
    "plot_part3_2(image, max_scale, winW, winH, maxc, maxr, max_response_map)"
   ]
  },
  {
   "cell_type": "markdown",
   "metadata": {},
   "source": [
    "From the above example, we can see that image pyramid has fixed the problem of scaling. Then in the example below, we will try another image and implement a deformable parts model."
   ]
  },
  {
   "cell_type": "code",
   "execution_count": 7,
   "metadata": {},
   "outputs": [],
   "source": [
    "image_path = 'image_0338.jpg'\n",
    "image = io.imread(image_path, as_grey=True)\n",
    "image = rescale(image, 1.0)\n",
    "\n",
    "(winH, winW) = face_shape\n",
    "\n",
    "max_score, maxr, maxc, max_scale, max_response_map = pyramid_score \\\n",
    "    (image, face_feature, face_shape, stepSize = 30, scale=0.8)\n",
    "\n",
    "plot_part3_2(image, max_scale, winW, winH, maxc, maxr, max_response_map)"
   ]
  },
  {
   "cell_type": "markdown",
   "metadata": {},
   "source": [
    "# Part 4: Deformable Parts Detection\n",
    "In order to solve the problem above, you will implement deformable parts model in this section, and apply it on human faces. <br>\n",
    "The first step is to get a detector for each part of the face, including left eye, right eye, nose and mouth. <br>\n",
    "For example for the left eye, we have provided the groundtruth location of left eyes for each image in the `\\face` directory. This is stored in the `lefteyes` array with shape `(n,2)`, each row is the `(r,c)` location of the center of left eye. You will then find the average hog representation of the left eyes in the images."
   ]
  },
  {
   "cell_type": "markdown",
   "metadata": {},
   "source": [
    "Run through the following code to get a detector for left eyes."
   ]
  },
  {
   "cell_type": "code",
   "execution_count": 8,
   "metadata": {},
   "outputs": [],
   "source": [
    "image_paths = fnmatch.filter(os.listdir('./face'), '*.jpg')\n",
    "\n",
    "parts = read_facial_labels(image_paths)\n",
    "lefteyes, righteyes, noses, mouths = parts\n",
    "\n",
    "# Typical shape for left eye\n",
    "lefteye_h = 10\n",
    "lefteye_w = 20\n",
    "\n",
    "lefteye_shape = (lefteye_h, lefteye_w)\n",
    "\n",
    "avg_lefteye = get_detector(lefteye_h, lefteye_w, lefteyes, image_paths)\n",
    "(lefteye_feature, lefteye_hog) = hog_feature(avg_lefteye, pixel_per_cell=2)\n",
    "\n",
    "plot_part4(avg_lefteye, lefteye_hog, 'left eye')"
   ]
  },
  {
   "cell_type": "markdown",
   "metadata": {},
   "source": [
    "Run through the following code to get a detector for right eye."
   ]
  },
  {
   "cell_type": "code",
   "execution_count": 9,
   "metadata": {},
   "outputs": [],
   "source": [
    "righteye_h = 10\n",
    "righteye_w = 20\n",
    "\n",
    "righteye_shape = (righteye_h, righteye_w)\n",
    "\n",
    "avg_righteye = get_detector(righteye_h, righteye_w, righteyes, image_paths)\n",
    "\n",
    "(righteye_feature, righteye_hog) = hog_feature(avg_righteye, pixel_per_cell=2)\n",
    "\n",
    "plot_part4(avg_righteye, righteye_hog, 'right eye')"
   ]
  },
  {
   "cell_type": "markdown",
   "metadata": {},
   "source": [
    "Run through the following code to get a detector for nose."
   ]
  },
  {
   "cell_type": "code",
   "execution_count": 10,
   "metadata": {},
   "outputs": [],
   "source": [
    "nose_h = 30\n",
    "nose_w = 26\n",
    "\n",
    "nose_shape = (nose_h, nose_w)\n",
    "\n",
    "avg_nose = get_detector(nose_h, nose_w, noses, image_paths)\n",
    "\n",
    "(nose_feature, nose_hog) = hog_feature(avg_nose, pixel_per_cell=2)\n",
    "\n",
    "plot_part4(avg_nose, nose_hog, 'nose')"
   ]
  },
  {
   "cell_type": "markdown",
   "metadata": {},
   "source": [
    "Run through the following code to get a detector for mouth"
   ]
  },
  {
   "cell_type": "code",
   "execution_count": 11,
   "metadata": {},
   "outputs": [],
   "source": [
    "mouth_h = 20\n",
    "mouth_w = 36\n",
    "\n",
    "mouth_shape = (mouth_h, mouth_w)\n",
    "\n",
    "avg_mouth = get_detector(mouth_h, mouth_w, mouths, image_paths)\n",
    "\n",
    "(mouth_feature, mouth_hog) = hog_feature(avg_mouth, pixel_per_cell=2)\n",
    "\n",
    "detectors_list = [lefteye_feature, righteye_feature, nose_feature, mouth_feature]\n",
    "\n",
    "plot_part4(avg_mouth, mouth_hog, 'mouth')"
   ]
  },
  {
   "cell_type": "markdown",
   "metadata": {},
   "source": [
    "# Part 5: Human Parts Location (15points)\n",
    "\n",
    "###  5.1 Compute displacement (10 points)\n",
    "\n",
    "Implement **`compute_displacement`** to get an average shift vector mu and standard deviation sigma for each part of the face. The vector mu is the distance from the main center, i.e the center of the face, to the center of the part. <br>\n"
   ]
  },
  {
   "cell_type": "code",
   "execution_count": 12,
   "metadata": {},
   "outputs": [],
   "source": [
    "# test for compute_displacement\n",
    "test_array = np.array([[0,1],[1,2],[2,3],[3,4]])\n",
    "test_shape = (6,6)\n",
    "mu, std = compute_displacement(test_array, test_shape)\n",
    "assert(np.all(mu == [1,0]))\n",
    "assert(np.sum(std-[ 1.11803399,  1.11803399])<1e-5)\n",
    "print(\"Your implementation is correct!\")"
   ]
  },
  {
   "cell_type": "code",
   "execution_count": 13,
   "metadata": {},
   "outputs": [],
   "source": [
    "lefteye_mu, lefteye_std = compute_displacement(lefteyes, face_shape)\n",
    "righteye_mu, righteye_std = compute_displacement(righteyes, face_shape)\n",
    "nose_mu, nose_std = compute_displacement(noses, face_shape)\n",
    "mouth_mu, mouth_std = compute_displacement(mouths, face_shape)"
   ]
  },
  {
   "cell_type": "markdown",
   "metadata": {},
   "source": [
    "After getting the shift vectors, we can run our detector on a test image. We will first run the following code to detect each part of left eye, right eye, nose and mouth in  the image. You will see a response map for each of them."
   ]
  },
  {
   "cell_type": "code",
   "execution_count": 14,
   "metadata": {},
   "outputs": [],
   "source": [
    "image_path = 'image_0338.jpg'\n",
    "image = io.imread(image_path, as_grey=True)\n",
    "image = rescale(image, 1.0)\n",
    "\n",
    "(face_H, face_W) = face_shape\n",
    "max_score, face_r, face_c, face_scale, face_response_map = pyramid_score\\\n",
    "    (image, face_feature, face_shape,stepSize = 30, scale=0.8)\n",
    "\n",
    "plot_part5_1(face_response_map)"
   ]
  },
  {
   "cell_type": "code",
   "execution_count": 15,
   "metadata": {},
   "outputs": [],
   "source": [
    "max_score, lefteye_r, lefteye_c, lefteye_scale, lefteye_response_map = \\\n",
    "    pyramid_score(image, lefteye_feature,lefteye_shape, stepSize = 20,scale=0.9, pixel_per_cell = 2)\n",
    "\n",
    "lefteye_response_map = resize(lefteye_response_map, face_response_map.shape)\n",
    "\n",
    "plot_part5_1(lefteye_response_map)"
   ]
  },
  {
   "cell_type": "code",
   "execution_count": 16,
   "metadata": {},
   "outputs": [],
   "source": [
    "max_score, righteye_r, righteye_c, righteye_scale, righteye_response_map = \\\n",
    "    pyramid_score (image, righteye_feature, righteye_shape, stepSize = 20,scale=0.9, pixel_per_cell=2)\n",
    "\n",
    "righteye_response_map = resize(righteye_response_map, face_response_map.shape)\n",
    "\n",
    "plot_part5_1(righteye_response_map)"
   ]
  },
  {
   "cell_type": "code",
   "execution_count": 17,
   "metadata": {},
   "outputs": [],
   "source": [
    "max_score, nose_r, nose_c, nose_scale, nose_response_map = \\\n",
    "    pyramid_score (image, nose_feature, nose_shape, stepSize = 20,scale=0.9, pixel_per_cell = 2)\n",
    "\n",
    "nose_response_map = resize(nose_response_map, face_response_map.shape)\n",
    "\n",
    "plot_part5_1(nose_response_map)"
   ]
  },
  {
   "cell_type": "code",
   "execution_count": null,
   "metadata": {},
   "outputs": [],
   "source": [
    "max_score, mouth_r, mouth_c, mouth_scale, mouth_response_map =\\\n",
    "    pyramid_score (image, mouth_feature, mouth_shape, stepSize = 20,scale=0.9, pixel_per_cell = 2)\n",
    "\n",
    "mouth_response_map = resize(mouth_response_map, face_response_map.shape)\n",
    "\n",
    "plot_part5_1(mouth_response_map)"
   ]
  },
  {
   "cell_type": "markdown",
   "metadata": {},
   "source": [
    "###  5.2 Shift heatmap (5 points)\n",
    "\n",
    "After getting the response maps for each part of the face, we will shift these maps so that they all have the same center as the face. We have calculated the shift vector mu in `compute_displacement`, so we are shifting based on vector mu. Implement `shift_heatmap` function in `detection.py`."
   ]
  },
  {
   "cell_type": "code",
   "execution_count": null,
   "metadata": {},
   "outputs": [],
   "source": [
    "face_heatmap_shifted = shift_heatmap(face_response_map, [0,0])\n",
    "\n",
    "lefteye_heatmap_shifted = shift_heatmap(lefteye_response_map, lefteye_mu)\n",
    "righteye_heatmap_shifted = shift_heatmap(righteye_response_map, righteye_mu)\n",
    "nose_heatmap_shifted = shift_heatmap(nose_response_map, nose_mu)\n",
    "mouth_heatmap_shifted = shift_heatmap(mouth_response_map, mouth_mu)\n",
    "\n",
    "plot_part5_2(lefteye_heatmap_shifted, righteye_heatmap_shifted,\n",
    "                 nose_heatmap_shifted, mouth_heatmap_shifted)"
   ]
  },
  {
   "cell_type": "markdown",
   "metadata": {},
   "source": [
    "# Part 6: Gaussian Filter (20 points)\n",
    "\n",
    "## Part 6.1 Gaussian Filter\n",
    "In this part, apply gaussian filter convolution to each heatmap. Blur by kernel of standard deviation sigma, and then add the heatmaps of the parts with the heatmap of the face. On the combined heatmap, find the maximum value and its location. You can use function provided by skimage to implement **`gaussian_heatmap`**.\n",
    "\n",
    "\n"
   ]
  },
  {
   "cell_type": "code",
   "execution_count": null,
   "metadata": {},
   "outputs": [],
   "source": [
    "heatmap_face= face_heatmap_shifted\n",
    "\n",
    "heatmaps = [lefteye_heatmap_shifted, \n",
    "           righteye_heatmap_shifted,\n",
    "           nose_heatmap_shifted,\n",
    "           mouth_heatmap_shifted]\n",
    "sigmas = [lefteye_std, righteye_std, nose_std, mouth_std]\n",
    "\n",
    "heatmap, i , j = gaussian_heatmap(heatmap_face, heatmaps, sigmas)\n",
    "print(heatmap.shape, image.shape)\n",
    "plot_part6_1(winH, winW, heatmap, image, i, j)"
   ]
  },
  {
   "cell_type": "markdown",
   "metadata": {},
   "source": [
    "## 6.2 Result Analysis (10 points)\n",
    "\n",
    "Does your DPM work on detecting human faces? Can you think of a case where DPM may work better than the detector we had in part 3 (sliding window + image pyramid)? You can also have examples that are not faces."
   ]
  },
  {
   "cell_type": "markdown",
   "metadata": {},
   "source": [
    "**Your Answer:** Write your answer in this markdown cell."
   ]
  },
  {
   "cell_type": "markdown",
   "metadata": {},
   "source": [
    "## Extra Credit (1 point)\n",
    "You have tried detecting one face from the image, and the next step is to extend it to detecting multiple occurences of the object. For example in the following image, how do you detect more than one face from your response map? Implement the function **`detect_multiple`**, and write code to visualize your detected faces in the cell below."
   ]
  },
  {
   "cell_type": "code",
   "execution_count": null,
   "metadata": {},
   "outputs": [],
   "source": [
    "image_path = 'image_0002.jpg'\n",
    "image = io.imread(image_path, as_grey=True)\n",
    "plt.imshow(image)\n",
    "plt.show()"
   ]
  },
  {
   "cell_type": "code",
   "execution_count": null,
   "metadata": {},
   "outputs": [],
   "source": [
    "image_path = 'image_0002.jpg'\n",
    "image = io.imread(image_path, as_grey=True)\n",
    "heatmap = get_heatmap (image,face_feature, face_shape,detectors_list, parts )\n",
    "\n",
    "plt.imshow(heatmap, cmap='viridis', interpolation='nearest')\n",
    "plt.show()"
   ]
  },
  {
   "cell_type": "code",
   "execution_count": null,
   "metadata": {},
   "outputs": [],
   "source": [
    "detected_faces = detect_multiple(image, heatmap)\n",
    "\n",
    "# Visualize your detected faces\n",
    "\n",
    "### YOUR CODE HERE\n",
    "pass\n",
    "### END YOUR CODE"
   ]
  }
 ],
 "metadata": {
  "kernelspec": {
   "display_name": "Python 3",
   "language": "python",
   "name": "python3"
  },
  "language_info": {
   "codemirror_mode": {
    "name": "ipython",
    "version": 3
   },
   "file_extension": ".py",
   "mimetype": "text/x-python",
   "name": "python",
   "nbconvert_exporter": "python",
   "pygments_lexer": "ipython3",
   "version": "3.6.8"
  }
 },
 "nbformat": 4,
 "nbformat_minor": 2
}