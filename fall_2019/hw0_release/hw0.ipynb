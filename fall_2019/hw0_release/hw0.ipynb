{
 "cells": [
  {
   "cell_type": "markdown",
   "metadata": {},
   "source": [
    "# Homework 0\n",
    "In this homework, we will go through basic linear algebra and image manipulation using python to get everyone on the same page for the prerequisite skills for this class.\n",
    "\n",
    "One of the aims of this homework assignment is to get you to start getting comfortable searching for useful library functions online. So in many of the functions you will implement, you will have to look up helper functions."
   ]
  },
  {
   "cell_type": "code",
   "execution_count": null,
   "metadata": {},
   "outputs": [],
   "source": [
    "#Imports the print function from newer versions of python\n",
    "from __future__ import print_function\n",
    "\n",
    "#Setup\n",
    "\n",
    "# The Random module for implements pseudo-random number generators\n",
    "import random \n",
    "\n",
    "# Numpy is the main package for scientific computing with Python. \n",
    "# This will be one of our most used libraries in this class\n",
    "import numpy as np\n",
    "\n",
    "\n",
    "#Imports all the methods in each of the files: linalg.py and imageManip.py\n",
    "from linalg import *\n",
    "from imageManip import *\n",
    "\n",
    "\n",
    "#Matplotlib is a useful plotting library for python \n",
    "import matplotlib.pyplot as plt\n",
    "# This code is to make matplotlib figures appear inline in the\n",
    "# notebook rather than in a new window.\n",
    "%matplotlib inline\n",
    "plt.rcParams['figure.figsize'] = (10.0, 8.0) # set default size of plots\n",
    "plt.rcParams['image.interpolation'] = 'nearest'\n",
    "plt.rcParams['image.cmap'] = 'gray'\n",
    "\n",
    "\n",
    "# Some more magic so that the notebook will reload external python modules;\n",
    "# see http://stackoverflow.com/questions/1907993/autoreload-of-modules-in-ipython\n",
    "%load_ext autoreload\n",
    "%autoreload 2\n",
    "%reload_ext autoreload"
   ]
  },
  {
   "cell_type": "markdown",
   "metadata": {
    "collapsed": true
   },
   "source": [
    "# Question 1: Linear Algebra Review\n",
    "In this section, we will review linear algebra and learn how to use vectors and matrices in python using numpy. By the end of this section, you will have implemented all the required methods in `linalg.py`."
   ]
  },
  {
   "cell_type": "markdown",
   "metadata": {},
   "source": [
    "## Question 1.1 (5 points)\n",
    "First, let's test whether you can define the following matrices and vectors using numpy. Look up `np.array()` for help. In the next code block, define $M$ as a $(4, 3)$ matrix, $a$ as a $(1, 3)$ row vector and $b$ as a $(3, 1)$ column vector:\n",
    "\n",
    "$$M = \\begin{bmatrix}\n",
    "1 & 2 & 3 \\\\\n",
    "4 & 5 & 6 \\\\\n",
    "7 & 8 & 9 \\\\\n",
    "10 & 11 & 12 \\end{bmatrix}\n",
    "$$\n",
    "\n",
    "$$a = \\begin{bmatrix}\n",
    "1 & 1 & 0\n",
    "\\end{bmatrix}\n",
    "$$\n",
    "\n",
    "$$b = \\begin{bmatrix}\n",
    "-1 \\\\ 2 \\\\ 5\n",
    "\\end{bmatrix}  \n",
    "$$ "
   ]
  },
  {
   "cell_type": "code",
   "execution_count": null,
   "metadata": {},
   "outputs": [],
   "source": [
    "### YOUR CODE HERE\n",
    "pass\n",
    "### END CODE HERE\n",
    "print(\"M = \\n\", M)\n",
    "print(\"The size of M is: \", M.shape)\n",
    "print()\n",
    "print(\"a = \", a)\n",
    "print(\"The size of a is: \", a.shape)\n",
    "print()\n",
    "print(\"b = \", b)\n",
    "print(\"The size of b is: \", b.shape)"
   ]
  },
  {
   "cell_type": "markdown",
   "metadata": {},
   "source": [
    "## Question 1.2 (5 points)\n",
    "Implement the `dot_product()` method in `linalg.py` and check that it returns the correct answer for $a^Tb$."
   ]
  },
  {
   "cell_type": "code",
   "execution_count": null,
   "metadata": {},
   "outputs": [],
   "source": [
    "# Now, let's test out this dot product. Your answer should be [[1]].\n",
    "aDotB = dot_product(a, b)\n",
    "print(aDotB)\n",
    "\n",
    "print(\"The size is: \", aDotB.shape)"
   ]
  },
  {
   "cell_type": "markdown",
   "metadata": {},
   "source": [
    "## Question 1.3 (5 points)\n",
    "Implement the `complicated_matrix_function()` method in `linalg.py` and use it to compute $(a^T b)Ma^T$\n",
    "\n",
    "IMPORTANT NOTE: The `complicated_matrix_function()` method expects all inputs to be two dimensional numpy arrays, as opposed to 1-D arrays.  This is an important distinction, because 2-D arrays can be transposed, while 1-D arrays cannot.\n",
    "\n",
    "To transpose a 2-D array, you can use the syntax `array.T` "
   ]
  },
  {
   "cell_type": "code",
   "execution_count": null,
   "metadata": {},
   "outputs": [],
   "source": [
    "# Your answer should be $[[3], [9], [15], [21]]$ of shape(4, 1).\n",
    "ans = complicated_matrix_function(M, a, b)\n",
    "print(ans)\n",
    "print()\n",
    "print(\"The size is: \", ans.shape)"
   ]
  },
  {
   "cell_type": "code",
   "execution_count": null,
   "metadata": {},
   "outputs": [],
   "source": [
    "M_2 = np.array(range(4)).reshape((2,2))\n",
    "a_2 = np.array([[1,1]])\n",
    "b_2 = np.array([[10, 10]]).T\n",
    "print(M_2.shape)\n",
    "print(a_2.shape)\n",
    "print(b_2.shape)\n",
    "print()\n",
    "\n",
    "# Your answer should be $[[ 20], [100]]$ of shape(2, 1).\n",
    "ans = complicated_matrix_function(M_2, a_2, b_2)\n",
    "print(ans)\n",
    "print()\n",
    "print(\"The size is: \", ans.shape)"
   ]
  },
  {
   "cell_type": "markdown",
   "metadata": {},
   "source": [
    "## Question 1.4 (10 points)\n",
    "Implement `svd()` and `get_singular_values()` methods. In this method, perform singular value decomposition on the input matrix and return the largest k singular values (k is specified in the method calls below)."
   ]
  },
  {
   "cell_type": "code",
   "execution_count": null,
   "metadata": {},
   "outputs": [],
   "source": [
    "# Let's first only get the first singular value and print it out. It should be ~ 25.46.\n",
    "only_first_singular_value = get_singular_values(M, 1)\n",
    "print(only_first_singular_value)\n",
    "\n",
    "# Now, let's get the first two singular values.\n",
    "# Notice the first singular value is a lot larger than the second one.\n",
    "first_two_singular_values = get_singular_values(M, 2)\n",
    "print(first_two_singular_values)\n",
    "\n",
    "# Let's make sure that the first singular value in both is the same.\n",
    "assert only_first_singular_value[0] == first_two_singular_values[0]"
   ]
  },
  {
   "cell_type": "markdown",
   "metadata": {},
   "source": [
    "## Question 1.5 (10 points)\n",
    "Implement `eigen_decomp()` and `get_eigen_values_and_vectors()` methods. In this method, perform eigenvalue decomposition on the following matrix and return the largest k eigen values and corresponding eigen vectors (k is specified in the method calls below).\n",
    "\n",
    "$$M = \\begin{bmatrix}\n",
    "1 & 2 & 3 \\\\\n",
    "4 & 5 & 6 \\\\\n",
    "7 & 8 & 9 \\end{bmatrix}\n",
    "$$\n"
   ]
  },
  {
   "cell_type": "code",
   "execution_count": null,
   "metadata": {},
   "outputs": [],
   "source": [
    "# Let's define M.\n",
    "M = np.array([[1,2,3],[4,5,6],[7,8,9]])\n",
    "\n",
    "# Now let's grab the first eigenvalue and first eigenvector.\n",
    "# You should get back a single eigenvalue and a single eigenvector.\n",
    "val, vec = get_eigen_values_and_vectors(M[:,:3], 1)\n",
    "print(\"First eigenvalue =\", val[0])\n",
    "print()\n",
    "print(\"First eigenvector =\", vec[0])\n",
    "print()\n",
    "assert len(vec) == 1\n",
    "\n",
    "# Now, let's get the first two eigenvalues and eigenvectors.\n",
    "# You should get back a list of two eigenvalues and a list of two eigenvector arrays.\n",
    "val, vec = get_eigen_values_and_vectors(M[:,:3], 2)\n",
    "print(\"Eigenvalues =\", val)\n",
    "print()\n",
    "print(\"Eigenvectors =\", vec)\n",
    "assert len(vec) == 2"
   ]
  },
  {
   "cell_type": "markdown",
   "metadata": {},
   "source": [
    "# Part 2: Image Manipulation \n",
    "\n",
    "Now that you are familiar with using matrices and vectors. Let's load some images and treat them as matrices and do some operations on them. By the end of this section, you will have implemented all the methods in `imageManip.py`"
   ]
  },
  {
   "cell_type": "code",
   "execution_count": null,
   "metadata": {},
   "outputs": [],
   "source": [
    "# Run this code to set the locations of the images we will be using. \n",
    "# You can change these paths to point to your own images if you want to try them out for fun.\n",
    "\n",
    "image1_path = './image1.jpg'\n",
    "image2_path = './image2.jpg'\n",
    "\n",
    "def display(img):\n",
    "    # Show image\n",
    "    plt.figure(figsize = (5,5))\n",
    "    plt.imshow(img)\n",
    "    plt.axis('off')\n",
    "    plt.show()"
   ]
  },
  {
   "cell_type": "markdown",
   "metadata": {},
   "source": [
    "## Question 2.1 (5 points)\n",
    "Implement the load method in imageManip.py and read the display method below. We will use these two methods through the rest of the notebook to visualize our work."
   ]
  },
  {
   "cell_type": "code",
   "execution_count": null,
   "metadata": {},
   "outputs": [],
   "source": [
    "image1 = load(image1_path)\n",
    "image2 = load(image2_path)\n",
    "\n",
    "display(image1)\n",
    "display(image2)"
   ]
  },
  {
   "cell_type": "markdown",
   "metadata": {},
   "source": [
    "## Question 2.2 (10 points)\n",
    "Implement the `dim_image()` method by converting images according to  $x_n = 0.5*x_p^2$ for every pixel, where $x_n$ is the new value and $x_p$ is the original value.\n",
    "\n",
    "Note: Since all the pixel values of the image are in the range $[0, 1]$, the above formula will result in reducing these pixels values and therefore make the image dimmer."
   ]
  },
  {
   "cell_type": "code",
   "execution_count": null,
   "metadata": {},
   "outputs": [],
   "source": [
    "new_image = dim_image(image1)\n",
    "display(new_image)"
   ]
  },
  {
   "cell_type": "markdown",
   "metadata": {},
   "source": [
    "## Question 2.3 (10 points)\n",
    "Implement the convert_to_grey_scale method and convert the image into grey scale."
   ]
  },
  {
   "cell_type": "code",
   "execution_count": null,
   "metadata": {},
   "outputs": [],
   "source": [
    "grey_image = convert_to_grey_scale(image1)\n",
    "display(grey_image)"
   ]
  },
  {
   "cell_type": "markdown",
   "metadata": {},
   "source": [
    "## Question 2.4 (10 points)\n",
    "Implement the `rgb_exclusion()`, in which the input image is decomposed into the three channels: R, G and B and return the image excluding the specified channel. "
   ]
  },
  {
   "cell_type": "code",
   "execution_count": null,
   "metadata": {},
   "outputs": [],
   "source": [
    "without_red = rgb_exclusion(image1, 'R')\n",
    "without_blue = rgb_exclusion(image1, 'B')\n",
    "without_green = rgb_exclusion(image1, 'G')\n",
    "\n",
    "print(\"Below is the image without the red channel.\")\n",
    "display(without_red)\n",
    "\n",
    "print(\"Below is the image without the green channel.\")\n",
    "display(without_green)\n",
    "\n",
    "print(\"Below is the image without the blue channel.\")\n",
    "display(without_blue)"
   ]
  },
  {
   "cell_type": "markdown",
   "metadata": {},
   "source": [
    "## Question 2.5 (10 points)\n",
    "Implement the lab_decomposition, in which the input image is decomposed into the three channels: L, A and B and return the values for the specified channel. "
   ]
  },
  {
   "cell_type": "code",
   "execution_count": null,
   "metadata": {},
   "outputs": [],
   "source": [
    "image_l = lab_decomposition(image1, 'L')\n",
    "image_a = lab_decomposition(image1, 'A')\n",
    "image_b = lab_decomposition(image1, 'B')\n",
    "\n",
    "\n",
    "print(\"Below is the image with only the L channel.\")\n",
    "display(image_l)\n",
    "\n",
    "print(\"Below is the image with only the A channel.\")\n",
    "display(image_a)\n",
    "\n",
    "print(\"Below is the image with only the B channel.\")\n",
    "display(image_b)"
   ]
  },
  {
   "cell_type": "markdown",
   "metadata": {},
   "source": [
    "### Question:\n",
    "Explain in 2-3 sentences what the L, A and B channels are and what happens when you take away the L and A channels.\n",
    "### Answer:\n",
    "Write your answer here."
   ]
  },
  {
   "cell_type": "markdown",
   "metadata": {},
   "source": [
    "## Question 2.6 (10 points)\n",
    "Implement the `hsv_decomposition()`, in which the input image is decomposed into the three channels: H, S and V and return the values for the specified channel. "
   ]
  },
  {
   "cell_type": "code",
   "execution_count": null,
   "metadata": {},
   "outputs": [],
   "source": [
    "image_h = hsv_decomposition(image1, 'H')\n",
    "image_s = hsv_decomposition(image1, 'S')\n",
    "image_v = hsv_decomposition(image1, 'V')\n",
    "\n",
    "print(\"Below is the image with only the H channel.\")\n",
    "display(image_h)\n",
    "\n",
    "print(\"Below is the image with only the S channel.\")\n",
    "display(image_s)\n",
    "\n",
    "print(\"Below is the image with only the V channel.\")\n",
    "display(image_v)"
   ]
  },
  {
   "cell_type": "markdown",
   "metadata": {},
   "source": [
    "### Question:\n",
    "Explain in 2-3 sentences what the H, S and V channels are and what happens when you take away the both the H and S channels.\n",
    "### Answer:\n",
    "Write your answer here."
   ]
  },
  {
   "cell_type": "markdown",
   "metadata": {},
   "source": [
    "## Question 2.7 (10 points)\n",
    "In mix_images method, create a new image such that the left half of the image is the left half of image1 and the\n",
    "right half of the image is the right half of image2. Exclude the specified channel for the given image. \n",
    "\n",
    "You should see the left half of the monkey without the red channel and the right half of the house image with no green channel."
   ]
  },
  {
   "cell_type": "code",
   "execution_count": null,
   "metadata": {},
   "outputs": [],
   "source": [
    "image_mixed = mix_images(image1, image2, channel1='R', channel2='G')\n",
    "display(image_mixed)\n",
    "\n",
    "#Sanity Check: the sum of the image matrix should be 76421.98\n",
    "np.sum(image_mixed)"
   ]
  },
  {
   "cell_type": "markdown",
   "metadata": {},
   "source": [
    "## Extra credit (10 points)\n",
    "\n",
    "The following questions are optional and will go towards you extra credit grade.\n",
    "\n",
    "Implement `mix_quadrants` function in `imageManip.py`."
   ]
  },
  {
   "cell_type": "code",
   "execution_count": null,
   "metadata": {},
   "outputs": [],
   "source": [
    "mixed_quadrants = mix_quadrants(image1)\n",
    "display(mixed_quadrants)"
   ]
  },
  {
   "cell_type": "code",
   "execution_count": null,
   "metadata": {},
   "outputs": [],
   "source": []
  }
 ],
 "metadata": {
  "kernelspec": {
   "display_name": ".env",
   "language": "python",
   "name": ".env"
  },
  "language_info": {
   "codemirror_mode": {
    "name": "ipython",
    "version": 3
   },
   "file_extension": ".py",
   "mimetype": "text/x-python",
   "name": "python",
   "nbconvert_exporter": "python",
   "pygments_lexer": "ipython3",
   "version": "3.7.3"
  }
 },
 "nbformat": 4,
 "nbformat_minor": 2
}
