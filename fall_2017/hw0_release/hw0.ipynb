{
 "nbformat_minor": 2, 
 "nbformat": 4, 
 "cells": [
  {
   "source": [
    "# Homework 0\n", 
    "In this homework, we will go through basic linear algebra and image manipulation using python to get everyone on the same page for the prerequisite skills for this class."
   ], 
   "cell_type": "markdown", 
   "metadata": {}
  }, 
  {
   "execution_count": 12, 
   "cell_type": "code", 
   "source": [
    "#Imports the print function from newer versions of python\n", 
    "from __future__ import print_function\n", 
    "\n", 
    "#Setup\n", 
    "\n", 
    "# The Random module for implements pseudo-random number generators\n", 
    "import random \n", 
    "\n", 
    "# Numpy is the main package for scientific computing with Python. \n", 
    "# This will be one of our most used libraries in this class\n", 
    "import numpy as np\n", 
    "\n", 
    "\n", 
    "#Imports all the methods in each of the files: linalg.py and imageManip.py\n", 
    "from linalg import *\n", 
    "from imageManip import *\n", 
    "\n", 
    "\n", 
    "#Matplotlib is a useful plotting library for python \n", 
    "import matplotlib.pyplot as plt\n", 
    "# This code is to make matplotlib figures appear inline in the\n", 
    "# notebook rather than in a new window.\n", 
    "%matplotlib inline\n", 
    "plt.rcParams['figure.figsize'] = (10.0, 8.0) # set default size of plots\n", 
    "plt.rcParams['image.interpolation'] = 'nearest'\n", 
    "plt.rcParams['image.cmap'] = 'gray'\n", 
    "\n", 
    "# Some more magic so that the notebook will reload external python modules;\n", 
    "# see http://stackoverflow.com/questions/1907993/autoreload-of-modules-in-ipython\n", 
    "%load_ext autoreload\n", 
    "%autoreload 2\n", 
    "%reload_ext autoreload"
   ], 
   "outputs": [], 
   "metadata": {}
  }, 
  {
   "source": [
    "# Question 1: Linear Algebra Review\n", 
    "Please implement all the required methods in linalg.py."
   ], 
   "cell_type": "markdown", 
   "metadata": {
    "collapsed": true
   }
  }, 
  {
   "source": [
    "## Question 1.1 (5 points)\n", 
    "Define the following using numpy:\n", 
    "$$M = \\begin{bmatrix}\n", 
    "1 & 2 & 3 \\\\\n", 
    "4 & 5 & 6 \\\\\n", 
    "7 & 8 & 9 \\\\\n", 
    "10 & 11 & 12 \\end{bmatrix}\n", 
    "$$\n", 
    "\n", 
    "$$a = \\begin{bmatrix}\n", 
    "1 & 1 & 0\n", 
    "\\end{bmatrix}\n", 
    "$$\n", 
    "\n", 
    "$$b = \\begin{bmatrix}\n", 
    "-1 \\\\ 2 \\\\ 5\n", 
    "\\end{bmatrix}  \n", 
    "$$ "
   ], 
   "cell_type": "markdown", 
   "metadata": {}
  }, 
  {
   "execution_count": 13, 
   "cell_type": "code", 
   "source": [
    "### YOUR CODE HERE\n", 
    "pass\n", 
    "### END CODE HERE\n", 
    "print(\"M = \\n\", M)\n", 
    "print(\"a = \", a)\n", 
    "print(\"b = \", b)"
   ], 
   "outputs": [], 
   "metadata": {}
  }, 
  {
   "source": [
    "## Question 1.2 (5 points)\n", 
    "Implement the dot_product method in linalg.py and check that it returns the correct answer for $a^Tb$."
   ], 
   "cell_type": "markdown", 
   "metadata": {}
  }, 
  {
   "execution_count": 14, 
   "cell_type": "code", 
   "source": [
    "aDotB = dot_product(a, b)\n", 
    "print (aDotB)"
   ], 
   "outputs": [], 
   "metadata": {}
  }, 
  {
   "source": [
    "## Question 1.3 (5 points)\n", 
    "Implement the matrix_mult method in linalg.py and use it to compute $(a^T b)Ma$"
   ], 
   "cell_type": "markdown", 
   "metadata": {}
  }, 
  {
   "execution_count": 15, 
   "cell_type": "code", 
   "source": [
    "ans = matrix_mult(M, a, b)\n", 
    "print (ans)"
   ], 
   "outputs": [], 
   "metadata": {}
  }, 
  {
   "source": [
    "## Question 4 (10 points)\n", 
    "Implement the get_singular_values method. In this method, perform singular value decomposition on the input matrix and return the largest n singular values (n specified in the method calls below)."
   ], 
   "cell_type": "markdown", 
   "metadata": {}
  }, 
  {
   "execution_count": 16, 
   "cell_type": "code", 
   "source": [
    "print(get_singular_values(M, 1))\n", 
    "print(get_singular_values(M, 2))"
   ], 
   "outputs": [], 
   "metadata": {}
  }, 
  {
   "source": [
    "## Question 1.5 (10 points)\n", 
    "Implement the get_eigen_values_and_vectors method. In this method, perform eigen value decomposition on the following matrix and return the largest n eigen values and corresponding eigen vectors (n specified in the method calls below).\n", 
    "\n", 
    "$$M = \\begin{bmatrix}\n", 
    "1 & 2 & 3 \\\\\n", 
    "4 & 5 & 6 \\\\\n", 
    "7 & 8 & 9 \\end{bmatrix}\n", 
    "$$\n"
   ], 
   "cell_type": "markdown", 
   "metadata": {}
  }, 
  {
   "execution_count": 17, 
   "cell_type": "code", 
   "source": [
    "M = np.matrix([[1,2,3],[4,5,6],[7,8,9]])\n", 
    "val, vec = get_eigen_values_and_vectors(M[:,:3], 1)\n", 
    "print(\"Values = \\n\", val)\n", 
    "print(\"Vectors = \\n\", vec)\n", 
    "val, vec = get_eigen_values_and_vectors(M[:,:3], 2)\n", 
    "print(\"Values = \\n\", val)\n", 
    "print(\"Vectors = \\n\", vec)"
   ], 
   "outputs": [], 
   "metadata": {}
  }, 
  {
   "source": [
    "# Part 2: Image Manipulation "
   ], 
   "cell_type": "markdown", 
   "metadata": {}
  }, 
  {
   "execution_count": 22, 
   "cell_type": "code", 
   "source": [
    "image1_path = './image1.jpg'\n", 
    "image2_path = './image2.jpg'"
   ], 
   "outputs": [], 
   "metadata": {
    "collapsed": true
   }
  }, 
  {
   "source": [
    "## Question 2.1 (5 points)\n", 
    "Implement the load method in imageManip.py and read the display method below. We will use these two methods through the rest of the notebook to visualize our work."
   ], 
   "cell_type": "markdown", 
   "metadata": {}
  }, 
  {
   "execution_count": 23, 
   "cell_type": "code", 
   "source": [
    "def display(img):\n", 
    "    # Show image\n", 
    "    plt.imshow(img)\n", 
    "    plt.axis('off')\n", 
    "    plt.show()"
   ], 
   "outputs": [], 
   "metadata": {
    "collapsed": true
   }
  }, 
  {
   "execution_count": 24, 
   "cell_type": "code", 
   "source": [
    "image1 = load(image1_path)\n", 
    "image2 = load(image2_path)\n", 
    "\n", 
    "display(image1)\n", 
    "display(image2)"
   ], 
   "outputs": [], 
   "metadata": {}
  }, 
  {
   "source": [
    "## Question 2.2 (10 points)\n", 
    "Implement the change_value method by converting images according to  $x_n = 0.5*x_p^2$ for every pixel, where $x_n$ is the new value and $x_p$ is the original value."
   ], 
   "cell_type": "markdown", 
   "metadata": {}
  }, 
  {
   "execution_count": 25, 
   "cell_type": "code", 
   "source": [
    "new_image = change_value(image1)\n", 
    "display(new_image)"
   ], 
   "outputs": [], 
   "metadata": {}
  }, 
  {
   "source": [
    "## Question 2.3 (10 points)\n", 
    "Implement the convert_to_grey_scale method and convert the image into grey scale."
   ], 
   "cell_type": "markdown", 
   "metadata": {}
  }, 
  {
   "execution_count": 26, 
   "cell_type": "code", 
   "source": [
    "grey_image = convert_to_grey_scale(image1)\n", 
    "display(grey_image)"
   ], 
   "outputs": [], 
   "metadata": {}
  }, 
  {
   "source": [
    "## Question 2.4 (10 points)\n", 
    "Implement the rgb_decomposition, in which the input image is decomposed into the three channels: R, G and B and return the image excluding the specified channel. "
   ], 
   "cell_type": "markdown", 
   "metadata": {}
  }, 
  {
   "execution_count": 27, 
   "cell_type": "code", 
   "source": [
    "without_red = rgb_decomposition(image1, 'R')\n", 
    "without_blue = rgb_decomposition(image1, 'B')\n", 
    "without_green = rgb_decomposition(image1, 'G')\n", 
    "\n", 
    "display(without_red)\n", 
    "display(without_blue)\n", 
    "display(without_green)"
   ], 
   "outputs": [], 
   "metadata": {}
  }, 
  {
   "source": [
    "## Question 2.5 (10 points)\n", 
    "Implement the lab_decomposition, in which the input image is decomposed into the three channels: L, A and B and return the values for the specified channel. "
   ], 
   "cell_type": "markdown", 
   "metadata": {}
  }, 
  {
   "execution_count": 28, 
   "cell_type": "code", 
   "source": [
    "image_l = lab_decomposition(image1, 'L')\n", 
    "image_a = lab_decomposition(image1, 'A')\n", 
    "image_b = lab_decomposition(image1, 'B')\n", 
    "\n", 
    "display(image_l)\n", 
    "display(image_a)\n", 
    "display(image_b)"
   ], 
   "outputs": [], 
   "metadata": {}
  }, 
  {
   "source": [
    "## Question 2.6 (10 points)\n", 
    "Implement the hsv_decomposition, in which the input image is decomposed into the three channels: H, S and V and return the values for the specified channel. "
   ], 
   "cell_type": "markdown", 
   "metadata": {}
  }, 
  {
   "execution_count": 29, 
   "cell_type": "code", 
   "source": [
    "image_h = hsv_decomposition(image1, 'H')\n", 
    "image_s = hsv_decomposition(image1, 'S')\n", 
    "image_v = hsv_decomposition(image1, 'V')\n", 
    "\n", 
    "display(image_h)\n", 
    "display(image_s)\n", 
    "display(image_v)"
   ], 
   "outputs": [], 
   "metadata": {}
  }, 
  {
   "source": [
    "## Question 2.7 (10 points)\n", 
    "In mix_images method, create a new image such that the left half of the image is the left half of image1 and the\n", 
    "right half of the image is the right half of image2. If the channels are specified, exclude the specified channel for the given image. "
   ], 
   "cell_type": "markdown", 
   "metadata": {}
  }, 
  {
   "execution_count": 21, 
   "cell_type": "code", 
   "source": [
    "image_mixed = mix_images(image1, image2, channel1='R', channel2='G')\n", 
    "display(image_mixed)"
   ], 
   "outputs": [], 
   "metadata": {}
  }
 ], 
 "metadata": {
  "kernelspec": {
   "display_name": "Python 3", 
   "name": "python3", 
   "language": "python"
  }, 
  "language_info": {
   "mimetype": "text/x-python", 
   "nbconvert_exporter": "python", 
   "name": "python", 
   "file_extension": ".py", 
   "version": "3.6.2", 
   "pygments_lexer": "ipython3", 
   "codemirror_mode": {
    "version": 3, 
    "name": "ipython"
   }
  }
 }
}