{
 "nbformat_minor": 2, 
 "nbformat": 4, 
 "cells": [
  {
   "source": [
    "# Homework 2\n", 
    "*This notebook includes both coding and written questions. Please hand in this notebook file with all the outputs and your answers to the written questions.*\n", 
    "\n", 
    "This assignment covers Canny edge detector and Hough transform."
   ], 
   "cell_type": "markdown", 
   "metadata": {}
  }, 
  {
   "execution_count": 1, 
   "cell_type": "code", 
   "source": [
    "# Setup\n", 
    "import numpy as np\n", 
    "import matplotlib.pyplot as plt\n", 
    "from time import time\n", 
    "from skimage import io\n", 
    "\n", 
    "from __future__ import print_function\n", 
    "\n", 
    "%matplotlib inline\n", 
    "plt.rcParams['figure.figsize'] = (15.0, 12.0) # set default size of plots\n", 
    "plt.rcParams['image.interpolation'] = 'nearest'\n", 
    "plt.rcParams['image.cmap'] = 'gray'\n", 
    "\n", 
    "# for auto-reloading extenrnal modules\n", 
    "%load_ext autoreload\n", 
    "%autoreload 2"
   ], 
   "outputs": [], 
   "metadata": {}
  }, 
  {
   "source": [
    "## Part 1: Canny Edge Detector (85 points)\n", 
    "In this part, you are going to implment Canny edge detector. The Canny edge detection algorithm can be broken down in to five steps:\n", 
    "1. Smoothing\n", 
    "2. Finding gradients\n", 
    "3. Non-maximum suppression\n", 
    "4. Double thresholding\n", 
    "5. Edge tracking by hysterisis"
   ], 
   "cell_type": "markdown", 
   "metadata": {
    "collapsed": true
   }
  }, 
  {
   "source": [
    "### 1.1 Smoothing (10 points)\n", 
    "#### Implementation (5 points)\n", 
    "We first smooth the input image by convolving it with a Gaussian kernel. The equation for a Gaussian kernel of size $(2k+1)\\times(2k+1)$ is given by:\n", 
    "\n", 
    "$$h_{ij}=\\frac{1}{2\\pi\\sigma^2}\\exp{\\Bigl(-\\frac{(i-k)^2+(j-k)^2}{2\\sigma^2}\\Bigr)}, 0\\leq i,j < 2k+1$$\n", 
    "\n", 
    "Implement **`gaussian_kernel`** in `edge.py` and run the code below."
   ], 
   "cell_type": "markdown", 
   "metadata": {}
  }, 
  {
   "execution_count": 2, 
   "cell_type": "code", 
   "source": [
    "from edge import conv, gaussian_kernel\n", 
    "\n", 
    "# Define 3x3 Gaussian kernel with std = 1\n", 
    "kernel = gaussian_kernel(3, 1)\n", 
    "kernel_test = np.array(\n", 
    "    [[ 0.05854983, 0.09653235, 0.05854983],\n", 
    "     [ 0.09653235, 0.15915494, 0.09653235],\n", 
    "     [ 0.05854983, 0.09653235, 0.05854983]]\n", 
    ")\n", 
    "\n", 
    "# Test Gaussian kernel\n", 
    "if not np.allclose(kernel, kernel_test):\n", 
    "    print('Incorrect values! Please check your implementation.')"
   ], 
   "outputs": [], 
   "metadata": {
    "collapsed": true
   }
  }, 
  {
   "execution_count": 3, 
   "cell_type": "code", 
   "source": [
    "# Test with different kernel_size and sigma\n", 
    "kernel_size = 5\n", 
    "sigma = 1.4\n", 
    "\n", 
    "# Load image\n", 
    "img = io.imread('iguana.png', as_grey=True)\n", 
    "\n", 
    "# Define 5x5 Gaussian kernel with std = sigma\n", 
    "kernel = gaussian_kernel(kernel_size, sigma)\n", 
    "\n", 
    "# Convolve image with kernel to achieve smoothed effect\n", 
    "smoothed = conv(img, kernel)\n", 
    "\n", 
    "plt.subplot(1,2,1)\n", 
    "plt.imshow(img)\n", 
    "plt.title('Original image')\n", 
    "plt.axis('off')\n", 
    "\n", 
    "plt.subplot(1,2,2)\n", 
    "plt.imshow(smoothed)\n", 
    "plt.title('Smoothed image')\n", 
    "plt.axis('off')\n", 
    "\n", 
    "plt.show()"
   ], 
   "outputs": [], 
   "metadata": {}
  }, 
  {
   "source": [
    "#### Question (5 points)\n", 
    "What is the effect of the kernel_size and sigma?"
   ], 
   "cell_type": "markdown", 
   "metadata": {}
  }, 
  {
   "source": [
    "**Your Answer:** Write your solution in this markdown cell."
   ], 
   "cell_type": "markdown", 
   "metadata": {}
  }, 
  {
   "source": [
    "### 1.2 Finding gradients (15 points)\n", 
    "The gradient of a 2D scalar function $I:\\mathbb{R}^2\\rightarrow{\\mathbb{R}}$ in Cartesian coordinate is defined by:\n", 
    "\n", 
    "$$\\nabla{I(x,y)}=\\bigl[\\frac{\\partial{I}}{\\partial{x}},\\frac{\\partial{I}}{\\partial{y}}\\bigr],$$\n", 
    "\n", 
    "where\n", 
    "\n", 
    "$$\n", 
    "\\frac{\\partial{I(x,y)}}{\\partial{x}}=\\lim_{\\Delta{x}\\to{0}}\\frac{I(x+\\Delta{x},y)-I(x,y)}{\\Delta{x}} \\\\\n", 
    "\\frac{\\partial{I(x,y)}}{\\partial{y}}=\\lim_{\\Delta{y}\\to{0}}\\frac{I(x,y+\\Delta{y})-I(x,y)}{\\Delta{y}}.\n", 
    "$$\n", 
    "\n", 
    "In case of images, we can approximate the partial derivatives by taking differences at one pixel intervals:\n", 
    "\n", 
    "$$\n", 
    "\\frac{\\partial{I(x,y)}}{\\partial{x}}\\approx{\\frac{I(x+1,y)-I(x-1,y)}{2}} \\\\\n", 
    "\\frac{\\partial{I(x,y)}}{\\partial{y}}\\approx{\\frac{I(x,y+1)-I(x,y-1)}{2}}\n", 
    "$$\n", 
    "\n", 
    "Note that the partial derivatives can be computed by convolving the image $I$ with some appropriate kernels $D_x$ and $D_y$:\n", 
    "\n", 
    "$$\n", 
    "\\frac{\\partial{I}}{\\partial{x}}\\approx{I*D_x}=G_x \\\\\n", 
    "\\frac{\\partial{I}}{\\partial{y}}\\approx{I*D_y}=G_y\n", 
    "$$"
   ], 
   "cell_type": "markdown", 
   "metadata": {
    "collapsed": true
   }
  }, 
  {
   "source": [
    "#### Implementation (5 points)\n", 
    "Find the kernels $D_x$ and $D_y$ and implement **`partial_x`** and **`partial_y`** using `conv` defined in `edge.py`.\n", 
    "\n", 
    "*-Hint: Remeber that convolution flips the kernel.*"
   ], 
   "cell_type": "markdown", 
   "metadata": {}
  }, 
  {
   "execution_count": 4, 
   "cell_type": "code", 
   "source": [
    "from edge import partial_x, partial_y\n", 
    "\n", 
    "# Test input\n", 
    "I = np.array(\n", 
    "    [[0, 0, 0],\n", 
    "     [0, 1, 0],\n", 
    "     [0, 0, 0]]\n", 
    ")\n", 
    "\n", 
    "# Expected outputs\n", 
    "I_x_test = np.array(\n", 
    "    [[ 0, 0, 0],\n", 
    "     [ 0.5, 0, -0.5],\n", 
    "     [ 0, 0, 0]]\n", 
    ")\n", 
    "\n", 
    "I_y_test = np.array(\n", 
    "    [[ 0, 0.5, 0],\n", 
    "     [ 0, 0, 0],\n", 
    "     [ 0, -0.5, 0]]\n", 
    ")\n", 
    "\n", 
    "# Compute partial derivatives\n", 
    "I_x = partial_x(I)\n", 
    "I_y = partial_y(I)\n", 
    "\n", 
    "# Test correctness of partial_x and partial_y\n", 
    "if not np.all(I_x == I_x_test):\n", 
    "    print('partial_x incorrect')\n", 
    "    \n", 
    "if not np.all(I_y == I_y_test):\n", 
    "    print('partial_y incorrect')"
   ], 
   "outputs": [], 
   "metadata": {
    "collapsed": true
   }
  }, 
  {
   "execution_count": 5, 
   "cell_type": "code", 
   "source": [
    "# Compute partial derivatives of smoothed image\n", 
    "Gx = partial_x(smoothed)\n", 
    "Gy = partial_y(smoothed)\n", 
    "\n", 
    "plt.subplot(1,2,1)\n", 
    "plt.imshow(Gx)\n", 
    "plt.title('Derivative in x direction')\n", 
    "plt.axis('off')\n", 
    "\n", 
    "plt.subplot(1,2,2)\n", 
    "plt.imshow(Gy)\n", 
    "plt.title('Derivative in y direction')\n", 
    "plt.axis('off')\n", 
    "\n", 
    "plt.show()"
   ], 
   "outputs": [], 
   "metadata": {}
  }, 
  {
   "source": [
    "#### Question (5 points)\n", 
    "What is the reason for performing smoothing prior to computing the gradients?"
   ], 
   "cell_type": "markdown", 
   "metadata": {}
  }, 
  {
   "source": [
    "**Your Answer:** Write your solution in this markdown cell."
   ], 
   "cell_type": "markdown", 
   "metadata": {}
  }, 
  {
   "source": [
    "#### Implementation (5 points)\n", 
    "Now, we can compute the magnitude and direction of gradient with the two partial derivatives:\n", 
    "\n", 
    "$$\n", 
    "G = \\sqrt{G_{x}^{2}+G_{y}^{2}} \\\\\n", 
    "\\Theta = arctan\\bigl(\\frac{G_{y}}{G_{x}}\\bigr)\n", 
    "$$\n", 
    "\n", 
    "Implement **`gradient`** in `edge.py` which takes in an image and outputs $G$ and $\\Theta$.\n", 
    "\n", 
    "*-Hint: Use np.arctan2 to compute $\\Theta$.*"
   ], 
   "cell_type": "markdown", 
   "metadata": {}
  }, 
  {
   "execution_count": 6, 
   "cell_type": "code", 
   "source": [
    "from edge import gradient\n", 
    "\n", 
    "G, theta = gradient(smoothed)\n", 
    "\n", 
    "if not np.all(G >= 0):\n", 
    "    print('Magnitude of gradients should be non-negative.')\n", 
    "    \n", 
    "if not np.all((theta >= 0) * (theta < 360)):\n", 
    "    print('Direction of gradients should be in range 0 <= theta < 360')\n", 
    "\n", 
    "plt.imshow(G)\n", 
    "plt.title('Gradient magnitude')\n", 
    "plt.axis('off')\n", 
    "plt.show()"
   ], 
   "outputs": [], 
   "metadata": {}
  }, 
  {
   "source": [
    "### 1.3 Non-maximum suppression (15 points)\n", 
    "You should be able to note that the edges extracted from the gradient of the smoothed image is quite thick and blurry. The purpose of this step is to convert the \"blurred\" edges into \"sharp\" edges. Basically, this is done by preserving all local maxima in the gradient image and discarding everything else. The algorithm is for each pixel (x,y) in the gradient image:\n", 
    "1. Round the gradient direction $\\Theta[y,x]$ to the nearest 45 degrees, corresponding to the use of an 8-connected neighbourhood.\n", 
    "\n", 
    "2. Compare the edge strength of the current pixel with the edge strength of the pixel in the positive and negative gradient direction. For example, if the gradient direction is south (theta=90), compare with the pixels to the north and south.\n", 
    "\n", 
    "3. If the edge strength of the current pixel is the largest; preserve the value of the edge strength. If not, suppress (i.e. remove) the value.\n", 
    "\n", 
    "Implement **`non_maximum_suppression`** in `edge.py`"
   ], 
   "cell_type": "markdown", 
   "metadata": {}
  }, 
  {
   "execution_count": 7, 
   "cell_type": "code", 
   "source": [
    "from edge import non_maximum_suppression\n", 
    "\n", 
    "# Test input\n", 
    "g = np.array(\n", 
    "    [[0.4, 0.5, 0.6],\n", 
    "     [0.3, 0.5, 0.7],\n", 
    "     [0.4, 0.5, 0.6]]\n", 
    ")\n", 
    "\n", 
    "# Print out non-maximum suppressed output\n", 
    "# varying theta\n", 
    "for angle in range(0, 180, 45):\n", 
    "    print('Thetas:', angle)\n", 
    "    t = np.ones((3, 3)) * angle # Initialize theta\n", 
    "    print(non_maximum_suppression(g, t))"
   ], 
   "outputs": [], 
   "metadata": {}
  }, 
  {
   "execution_count": 8, 
   "cell_type": "code", 
   "source": [
    "nms = non_maximum_suppression(G, theta)\n", 
    "plt.imshow(nms)\n", 
    "plt.title('Non-maximum suppressed')\n", 
    "plt.axis('off')\n", 
    "plt.show()"
   ], 
   "outputs": [], 
   "metadata": {}
  }, 
  {
   "source": [
    "### 1.4 Double Thresholding (20 points)\n", 
    "\n", 
    "The edge-pixels remaining after the non-maximum suppression step are (still) marked with their strength pixel-by-pixel. Many of these will probably be true edges in the image, but some may be caused by noise or color variations, for instance, due to rough surfaces. The simplest way to discern between these would be to use a threshold, so that only edges stronger that a certain value would be preserved. The Canny edge detection algorithm uses double thresholding. Edge pixels stronger than the high threshold are marked as strong; edge pixels weaker than the low threshold are suppressed and edge pixels between the two thresholds are marked as weak.\n", 
    "\n", 
    "Implement **`double_thresholding`** in `edge.py`"
   ], 
   "cell_type": "markdown", 
   "metadata": {}
  }, 
  {
   "execution_count": 9, 
   "cell_type": "code", 
   "source": [
    "from edge import double_thresholding\n", 
    "\n", 
    "low_threshold = 0.02\n", 
    "high_threshold = 0.03\n", 
    "\n", 
    "strong_edges, weak_edges = double_thresholding(nms, high_threshold, low_threshold)\n", 
    "assert(np.sum(strong_edges & weak_edges) == 0)\n", 
    "\n", 
    "edges=strong_edges * 1.0 + weak_edges * 0.5\n", 
    "\n", 
    "plt.subplot(1,2,1)\n", 
    "plt.imshow(strong_edges)\n", 
    "plt.title('Strong Edges')\n", 
    "plt.axis('off')\n", 
    "\n", 
    "plt.subplot(1,2,2)\n", 
    "plt.imshow(edges)\n", 
    "plt.title('Strong+Weak Edges')\n", 
    "plt.axis('off')\n", 
    "\n", 
    "plt.show()"
   ], 
   "outputs": [], 
   "metadata": {}
  }, 
  {
   "source": [
    "### 1.5 Edge tracking (15 points)\n", 
    "\n", 
    "Strong edges are interpreted as \u201ccertain edges\u201d, and can immediately be included in the final edge image. Weak edges are included if and only if they are connected to strong edges. The logic is of course that noise and other small variations are unlikely to result in a strong edge (with proper adjustment of the threshold levels). Thus strong edges will (almost) only be due to true edges in the original image. The weak edges can either be due to true edges or noise/color variations. The latter type will probably be distributed in dependently of edges on the entire image, and thus only a small amount will be located adjacent to strong edges. Weak edges due to true edges are much more likely to be connected directly to strong edges.\n", 
    "\n", 
    "Implement **`link_edges`** in `edge.py`"
   ], 
   "cell_type": "markdown", 
   "metadata": {}
  }, 
  {
   "execution_count": 10, 
   "cell_type": "code", 
   "source": [
    "from edge import get_neighbors, link_edges\n", 
    "\n", 
    "test_strong = np.array(\n", 
    "    [[1, 0, 0, 0],\n", 
    "     [0, 0, 0, 0],\n", 
    "     [0, 0, 0, 0],\n", 
    "     [0, 0, 0, 1]]\n", 
    ")\n", 
    "\n", 
    "test_weak = np.array(\n", 
    "    [[0, 0, 0, 1],\n", 
    "     [0, 1, 0, 0],\n", 
    "     [1, 0, 0, 0],\n", 
    "     [0, 0, 1, 0]]\n", 
    ")\n", 
    "\n", 
    "test_linked = link_edges(test_strong, test_weak)\n", 
    "\n", 
    "plt.subplot(1, 3, 1)\n", 
    "plt.imshow(test_strong)\n", 
    "plt.title('Strong edges')\n", 
    "\n", 
    "plt.subplot(1, 3, 2)\n", 
    "plt.imshow(test_weak)\n", 
    "plt.title('Weak edges')\n", 
    "\n", 
    "plt.subplot(1, 3, 3)\n", 
    "plt.imshow(test_linked)\n", 
    "plt.title('Linked edges')\n", 
    "plt.show()"
   ], 
   "outputs": [], 
   "metadata": {}
  }, 
  {
   "execution_count": 11, 
   "cell_type": "code", 
   "source": [
    "edges = link_edges(strong_edges, weak_edges)\n", 
    "\n", 
    "plt.imshow(edges)\n", 
    "plt.axis('off')\n", 
    "plt.show()"
   ], 
   "outputs": [], 
   "metadata": {}
  }, 
  {
   "source": [
    "### 1.6 Canny edge detector\n", 
    "Implement **`canny`** in `edge.py` using the functions you have implemented so far. Test edge detector with different parameters.\n", 
    "\n", 
    "Here is an example of the output:\n", 
    "\n", 
    "![iguana_edges.png](attachment:iguana_edges.png)"
   ], 
   "cell_type": "markdown", 
   "attachments": {
    "iguana_edges.png": {
     "image/png": "[encoded data removed]"
    }
   }, 
   "metadata": {}
  }, 
  {
   "execution_count": 12, 
   "cell_type": "code", 
   "source": [
    "from edge import canny\n", 
    "\n", 
    "# Load image\n", 
    "img = io.imread('iguana.png', as_grey=True)\n", 
    "\n", 
    "# Run Canny edge detector\n", 
    "edges = canny(img, kernel_size=5, sigma=1.4, high=0.03, low=0.02)\n", 
    "print (edges.shape)\n", 
    "plt.imshow(edges)\n", 
    "plt.axis('off')\n", 
    "plt.show()"
   ], 
   "outputs": [], 
   "metadata": {}
  }, 
  {
   "source": [
    "### 1.7 Question (10 points)\n", 
    "\n", 
    "![image.84KQ4Y.png](attachment:image.84KQ4Y.png)\n", 
    "**(a)** Suppose that the Canny edge detector successfully detects an edge in an image. The edge (see the figure above) is then rotated by \u03b8, where the relationship between a point on the original edge $(x, y)$ and a point on the rotated edge $(x', y')$ is defined as\n", 
    "\n", 
    "$$\n", 
    "x'=x\\cos{\\theta}\\\\\n", 
    "y'=x\\sin{\\theta}\n", 
    "$$\n", 
    "\n", 
    "Will the rotated edge be detected using the same Canny edge detector? Provide either a mathematical proof or a counter example.\n", 
    "\n", 
    "*-Hint: The detection of an edge by the Canny edge detector depends only on the magnitude of its derivative. The derivative at point (x, y) is determined by its components along the x and y directions. Think about how these magnitudes have changed because of the rotation.*"
   ], 
   "cell_type": "markdown", 
   "attachments": {
    "image.84KQ4Y.png": {
     "image/png": "[encoded data removed]"
    }
   }, 
   "metadata": {}
  }, 
  {
   "source": [
    "**Your Answer:** Write your solution in this markdown cell."
   ], 
   "cell_type": "markdown", 
   "metadata": {}
  }, 
  {
   "source": [
    "**(b)** After running the Canny edge detector on an image, you notice that long edges are broken into short segments separated by gaps. In addition, some spurious edges appear. For each of the two thresholds (low and high) used in hysteresis thresholding, explain how you would adjust the threshold (up or down) to address both problems. Assume that a setting exists for the two thresholds that produces the desired result. Briefly explain your answer."
   ], 
   "cell_type": "markdown", 
   "metadata": {}
  }, 
  {
   "source": [
    "**Your Answer:** Write your solution in this markdown cell."
   ], 
   "cell_type": "markdown", 
   "metadata": {}
  }, 
  {
   "source": [
    "### Extra Credit: Optimizing Edge Detector\n", 
    "One way of evaluating an edge detector is to compare detected edges with manually specified ground truth edges. Here, we use precision, recall and F1 score as evaluation metrics. We provide you 40 images of objects with ground truth edge annotations. Run the code below to compute precision, recall and F1 score over the entire set of images. Then, tweak the parameters of the Canny edge detector to get as high F1 score as possible. You should be able to achieve F1 score higher than 0.31 by carefully setting the parameters."
   ], 
   "cell_type": "markdown", 
   "metadata": {}
  }, 
  {
   "execution_count": 14, 
   "cell_type": "code", 
   "source": [
    "from os import listdir\n", 
    "from itertools import product\n", 
    "\n", 
    "# Define parameters to test\n", 
    "sigmas = []\n", 
    "highs = []\n", 
    "lows = []\n", 
    "\n", 
    "for sigma, high, low in product(sigmas, highs, lows):\n", 
    "\n", 
    "    print(\"sigma={}, high={}, low={}\".format(sigma, high, low))\n", 
    "    n_detected = 0.0\n", 
    "    n_gt = 0.0\n", 
    "    n_correct = 0.0\n", 
    "\n", 
    "    for img_file in listdir('images/objects'):\n", 
    "        img = io.imread('images/objects/'+img_file, as_grey=True)\n", 
    "        gt = io.imread('images/gt/'+img_file+'.gtf.pgm', as_grey=True)\n", 
    "\n", 
    "        mask = (gt != 5) # 'don't' care region\n", 
    "        gt = (gt == 0) # binary image of GT edges\n", 
    "\n", 
    "        edges = canny(img, kernel_size=5, sigma=sigma, high=high, low=low)\n", 
    "        edges = edges * mask\n", 
    "\n", 
    "        n_detected += np.sum(edges)\n", 
    "        n_gt += np.sum(gt)\n", 
    "        n_correct += np.sum(edges * gt)\n", 
    "\n", 
    "    p_total = n_correct / n_detected\n", 
    "    r_total = n_correct / n_gt\n", 
    "    f1 = 2 * (p_total * r_total) / (p_total + r_total)\n", 
    "    print('Total precision={:.4f}, Total recall={:.4f}'.format(p_total, r_total))\n", 
    "    print('F1 score={:.4f}'.format(f1))"
   ], 
   "outputs": [], 
   "metadata": {
    "collapsed": true
   }
  }, 
  {
   "source": [
    "## Part2: Lane Detection (15 points)\n", 
    "\n", 
    "In this section we will implement a simple lane detection application using Canny edge detector and Hough transform.\n", 
    "Here are some example images of how your final lane detector will look like.\n", 
    "<img src=\"lane1.png\" width=\"400\">\n", 
    "<img src=\"lane2.png\" width=\"400\">\n", 
    "\n", 
    "The algorithm can broken down into the following steps:\n", 
    "1. Detect edges using the Canny edge detector.\n", 
    "2. Extract the edges in the region of interest (a triangle covering the bottom corners and the center of the image).\n", 
    "3. Run Hough transform to detect lanes.\n", 
    "\n"
   ], 
   "cell_type": "markdown", 
   "metadata": {}
  }, 
  {
   "source": [
    "### 2.1 Edge detection\n", 
    "Lanes on the roads are usually thin and long lines with bright colors. Our edge detection algorithm by itself should be able to find the lanes pretty well. Run the code cell below to load the example image and detect edges from the image."
   ], 
   "cell_type": "markdown", 
   "metadata": {}
  }, 
  {
   "execution_count": 15, 
   "cell_type": "code", 
   "source": [
    "from edge import canny\n", 
    "\n", 
    "# Load image\n", 
    "img = io.imread('road.jpg', as_grey=True)\n", 
    "\n", 
    "# Run Canny edge detector\n", 
    "edges = canny(img, kernel_size=5, sigma=1.4, high=0.03, low=0.02)\n", 
    "\n", 
    "plt.subplot(211)\n", 
    "plt.imshow(img)\n", 
    "plt.axis('off')\n", 
    "plt.title('Input Image')\n", 
    "\n", 
    "plt.subplot(212)\n", 
    "plt.imshow(edges)\n", 
    "plt.axis('off')\n", 
    "plt.title('Edges')\n", 
    "plt.show()"
   ], 
   "outputs": [], 
   "metadata": {}
  }, 
  {
   "source": [
    "### 2.2 Extracting region of interest (ROI)\n", 
    "We can see that the Canny edge detector could find the edges of the lanes. However, we can also see that there are edges of other objects that we are not interested in. Given the position and orientation of the camera, we know that the lanes will be located in the lower half of the image. The code below defines a binary mask for the ROI and extract the edges within the region."
   ], 
   "cell_type": "markdown", 
   "metadata": {}
  }, 
  {
   "execution_count": 16, 
   "cell_type": "code", 
   "source": [
    "H, W = img.shape\n", 
    "\n", 
    "# Generate mask for ROI (Region of Interest)\n", 
    "mask = np.zeros((H, W))\n", 
    "for i in range(H):\n", 
    "    for j in range(W):\n", 
    "        if i > (H / W) * j and i > -(H / W) * j + H:\n", 
    "            mask[i, j] = 1\n", 
    "\n", 
    "# Extract edges in ROI\n", 
    "roi = edges * mask\n", 
    "\n", 
    "plt.subplot(1,2,1)\n", 
    "plt.imshow(mask)\n", 
    "plt.title('Mask')\n", 
    "plt.axis('off')\n", 
    "\n", 
    "plt.subplot(1,2,2)\n", 
    "plt.imshow(roi)\n", 
    "plt.title('Edges in ROI')\n", 
    "plt.axis('off')\n", 
    "plt.show()"
   ], 
   "outputs": [], 
   "metadata": {}
  }, 
  {
   "source": [
    "### 2.3 Fitting lines using Hough transform (15 points)\n", 
    "The output from the edge detector is still a collection of connected points. However, it would be more natural to represent a lane as a line parameterized as $y = ax + b$, with a slope $a$ and y-intercept $b$. We will use Hough transform to find parameterized lines that represent the detected edges.\n", 
    "\n", 
    "In general, a straight line $y = ax + b$ can be represented as a point $(a, b)$ in the parameter space. However, this cannot represent vertical lines as the slope parameter will be unbounded. Alternatively, we parameterize a line using $\\theta\\in{[-\\pi, \\pi]}$ and $\\rho\\in{\\mathbb{R}}$ as follows:\n", 
    "\n", 
    "$$\n", 
    "\\rho = x\\cdot{cos\\theta} + y\\cdot{sin\\theta}\n", 
    "$$\n", 
    "\n", 
    "Using this parameterization, we can map everypoint in $xy$-space to a sine-like line in $\\theta\\rho$-space (or Hough space). We then accumulate the parameterized points in the Hough space and choose points (in Hough space) with highest accumulated values. A point in Hough space then can be transformed back into a line in $xy$-space.\n", 
    "\n", 
    "*See [notes](http://web.ipac.caltech.edu/staff/fmasci/home/astro_refs/HoughTrans_lines_09.pdf) on Hough transform.*\n", 
    "\n", 
    "Implement **`hough_transform`** in `edge.py`."
   ], 
   "cell_type": "markdown", 
   "metadata": {}
  }, 
  {
   "execution_count": 17, 
   "cell_type": "code", 
   "source": [
    "from edge import hough_transform\n", 
    "\n", 
    "# Perform Hough transform on the ROI\n", 
    "acc, rhos, thetas = hough_transform(roi)\n", 
    "\n", 
    "# Coordinates for right lane\n", 
    "xs_right = []\n", 
    "ys_right = []\n", 
    "\n", 
    "# Coordinates for left lane\n", 
    "xs_left = []\n", 
    "ys_left = []\n", 
    "\n", 
    "for i in range(20):\n", 
    "    idx = np.argmax(acc)\n", 
    "    r_idx = idx // acc.shape[1]\n", 
    "    t_idx = idx % acc.shape[1]\n", 
    "    acc[r_idx, t_idx] = 0 # Zero out the max value in accumulator\n", 
    "\n", 
    "    rho = rhos[r_idx]\n", 
    "    theta = thetas[t_idx]\n", 
    "    \n", 
    "    # Transform a point in Hough space to a line in xy-space.\n", 
    "    a = - (np.cos(theta)/np.sin(theta)) # slope of the line\n", 
    "    b = (rho/np.sin(theta)) # y-intersect of the line\n", 
    "\n", 
    "    # Break if both right and left lanes are detected\n", 
    "    if xs_right and xs_left:\n", 
    "        break\n", 
    "    \n", 
    "    if a < 0: # Left lane\n", 
    "        if xs_left:\n", 
    "            continue\n", 
    "        xs = xs_left\n", 
    "        ys = ys_left\n", 
    "    else: # Right Lane\n", 
    "        if xs_right:\n", 
    "            continue\n", 
    "        xs = xs_right\n", 
    "        ys = ys_right\n", 
    "\n", 
    "    for x in range(img.shape[1]):\n", 
    "        y = a * x + b\n", 
    "        if y > img.shape[0] * 0.6 and y < img.shape[0]:\n", 
    "            xs.append(x)\n", 
    "            ys.append(int(round(y)))\n", 
    "\n", 
    "plt.imshow(img)\n", 
    "plt.plot(xs_left, ys_left, linewidth=5.0)\n", 
    "plt.plot(xs_right, ys_right, linewidth=5.0)\n", 
    "plt.axis('off')\n", 
    "plt.show()"
   ], 
   "outputs": [], 
   "metadata": {}
  }, 
  {
   "execution_count": null, 
   "cell_type": "code", 
   "source": [], 
   "outputs": [], 
   "metadata": {
    "collapsed": true
   }
  }
 ], 
 "metadata": {
  "kernelspec": {
   "display_name": "Python 3", 
   "name": "python3", 
   "language": "python"
  }, 
  "language_info": {
   "mimetype": "text/x-python", 
   "nbconvert_exporter": "python", 
   "name": "python", 
   "file_extension": ".py", 
   "version": "3.5.2", 
   "pygments_lexer": "ipython3", 
   "codemirror_mode": {
    "version": 3, 
    "name": "ipython"
   }
  }
 }
}